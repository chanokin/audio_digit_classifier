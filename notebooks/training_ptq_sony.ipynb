{
 "cells": [
  {
   "cell_type": "code",
   "execution_count": 1,
   "id": "ed7dbeb9",
   "metadata": {},
   "outputs": [],
   "source": [
    "import torch\n",
    "from torchfsdd import TorchFSDDGenerator, TrimSilence\n",
    "from torchaudio.transforms import MFCC, TimeMasking, FrequencyMasking\n",
    "from torchvision.transforms import Compose\n",
    "from torch.utils.data import DataLoader\n",
    "from lightning import Trainer\n",
    "from lightning.pytorch.loggers import MLFlowLogger\n",
    "from lightning.pytorch.callbacks import ModelCheckpoint, LearningRateMonitor, EarlyStopping, RichModelSummary, RichProgressBar\n",
    "from matplotlib import pyplot as plt\n",
    "from pathlib import Path\n",
    "import sys\n",
    "import numpy as np\n",
    "# quick hacky way to get the package visible in the notebook\n",
    "base_path = Path(\".\").resolve().parent\n",
    "sys.path.append(str(base_path ))\n",
    "\n",
    "from sdc.rnn import RNN\n",
    "from sdc.trainer import RNNTrainer\n",
    "USE_GPU = torch.cuda.is_available() and 0\n",
    "N_CLASSES = 10 # 0-9 digits\n",
    "SAMPLING_RATE = 8e3  # 8kHz\n",
    "N_MFCC_CHANNELS = 13  # Number of MFCC channels\n",
    "MAX_EPOCHS = 50\n",
    "DEVICE = torch.device(\"cuda\") if USE_GPU else torch.device(\"cpu\")\n",
    "CHECKPOINT_PATH = Path(\".\") / \"saved_models\"\n",
    "CHECKPOINT_PATH.mkdir(parents=True, exist_ok=True)\n",
    "EXPERIMENT_NAME = \"rnn_model_ptq_sony\"\n",
    "BATCH_SIZE = 4\n",
    "\n",
    "# torch.set_default_device(DEVICE)\n",
    "# torch.set_default_dtype(torch.float16)\n",
    "torch.set_float32_matmul_precision(\"medium\")\n",
    "# torch.set_float32_matmul_precision(\"high\")\n",
    "\n",
    "\n",
    "# chop off silence from the beginning and end of the audio\n",
    "trimmer = TrimSilence(threshold=1e-6)\n",
    "\n",
    "mfcc = MFCC(sample_rate=SAMPLING_RATE, n_mfcc=N_MFCC_CHANNELS)\n",
    "\n",
    "time_masking = TimeMasking(time_mask_param=2, p=0.3)\n",
    "freq_masking = FrequencyMasking(freq_mask_param=2)\n",
    "freq_masking.p = 0.3\n",
    "\n",
    "# Fetch the latest version of FSDD and initialize a generator with those files\n",
    "fsdd = TorchFSDDGenerator(version='master', transforms=None)\n",
    "\n",
    "# Create three Torch datasets for a train-validation-test split from the generator\n",
    "train_set, val_set, test_set = fsdd.train_val_test_split(test_size=0.15, val_size=0.15)\n",
    "\n"
   ]
  },
  {
   "cell_type": "code",
   "execution_count": null,
   "id": "a1da7ca5",
   "metadata": {},
   "outputs": [],
   "source": []
  },
  {
   "cell_type": "code",
   "execution_count": 2,
   "id": "a2ebe88a",
   "metadata": {},
   "outputs": [],
   "source": [
    "default_root_dir = CHECKPOINT_PATH / EXPERIMENT_NAME\n",
    "default_root_dir.mkdir(parents=True, exist_ok=True)\n"
   ]
  },
  {
   "cell_type": "code",
   "execution_count": 3,
   "id": "ccf0babe",
   "metadata": {},
   "outputs": [],
   "source": [
    "mlf_logger = MLFlowLogger(\n",
    "    experiment_name=EXPERIMENT_NAME,\n",
    "    # tracking_uri=f\"http://localhost:5000\",\n",
    ")"
   ]
  },
  {
   "cell_type": "code",
   "execution_count": 4,
   "id": "2577e55c",
   "metadata": {},
   "outputs": [],
   "source": [
    "# Create a transformation pipeline to apply to the recordings\n",
    "train_transforms = Compose([\n",
    "    trimmer,\n",
    "    mfcc,\n",
    "    time_masking,\n",
    "    freq_masking,\n",
    "])\n",
    "\n",
    "val_transforms = Compose([\n",
    "    trimmer,\n",
    "    mfcc,\n",
    "])\n",
    "\n",
    "train_set.transforms = train_transforms\n",
    "val_set.transforms = val_transforms\n",
    "test_set.transforms = val_transforms"
   ]
  },
  {
   "cell_type": "code",
   "execution_count": 5,
   "id": "71ab88d3",
   "metadata": {},
   "outputs": [],
   "source": [
    "def collate_fn(data):\n",
    "    \"\"\"Batch and pad wakeword data\"\"\"\n",
    "    mfccs = []\n",
    "    labels = []\n",
    "    for d in data:\n",
    "        mfcc, label = d\n",
    "        mfccs.append(mfcc.squeeze(0).transpose(0, 1))\n",
    "        labels.append(label)\n",
    "\n",
    "    # pad mfccs to ensure all tensors are same size in the time dim\n",
    "    mfccs = torch.nn.utils.rnn.pad_sequence(mfccs, batch_first=True)  # batch, seq_len, feature\n",
    "\n",
    "    # print(mfccs.shape)\n",
    "    labels = torch.asarray(labels)\n",
    "    return mfccs, labels\n",
    "\n",
    "train_loader = DataLoader(\n",
    "    train_set,\n",
    "    batch_size=BATCH_SIZE,\n",
    "    shuffle=True,\n",
    "    num_workers=4,\n",
    "    pin_memory=True,\n",
    "    collate_fn=collate_fn,\n",
    ")\n",
    "\n",
    "val_loader = DataLoader(\n",
    "    val_set,\n",
    "    batch_size=BATCH_SIZE,\n",
    "    shuffle=False,\n",
    "    num_workers=4,\n",
    "    pin_memory=True,\n",
    "    collate_fn=collate_fn,\n",
    ")"
   ]
  },
  {
   "cell_type": "code",
   "execution_count": 6,
   "id": "74cf0e0f",
   "metadata": {},
   "outputs": [
    {
     "name": "stderr",
     "output_type": "stream",
     "text": [
      "/home/chanokin/innatera/audio_digit_classifier/.venv/lib/python3.12/site-packages/torch/nn/modules/rnn.py:123: UserWarning: dropout option adds dropout after all but last recurrent layer, so non-zero dropout expects num_layers greater than 1, but got dropout=0.3 and num_layers=1\n",
      "  warnings.warn(\n"
     ]
    },
    {
     "data": {
      "text/plain": [
       "RNN(\n",
       "  (lstm): LSTM(13, 80, batch_first=True, dropout=0.3)\n",
       "  (linear_000): LSD(\n",
       "    (linear): Linear(in_features=80, out_features=10, bias=True)\n",
       "    (act): SiLU()\n",
       "    (dropout): Dropout(p=0.3, inplace=False)\n",
       "  )\n",
       ")"
      ]
     },
     "execution_count": 6,
     "metadata": {},
     "output_type": "execute_result"
    }
   ],
   "source": [
    "rnn = RNN(\n",
    "    lstm_config={\n",
    "        'input_size': N_MFCC_CHANNELS,\n",
    "        'hidden_size': 80,\n",
    "        'num_layers': 1,\n",
    "    },\n",
    "    linear_sizes=[N_CLASSES],\n",
    ")\n",
    "\n",
    "rnn.to(DEVICE)"
   ]
  },
  {
   "cell_type": "code",
   "execution_count": 7,
   "id": "3eb354f7",
   "metadata": {},
   "outputs": [
    {
     "data": {
      "text/plain": [
       "RNNTrainer(\n",
       "  (model): RNN(\n",
       "    (lstm): LSTM(13, 80, batch_first=True, dropout=0.3)\n",
       "    (linear_000): LSD(\n",
       "      (linear): Linear(in_features=80, out_features=10, bias=True)\n",
       "      (act): SiLU()\n",
       "      (dropout): Dropout(p=0.3, inplace=False)\n",
       "    )\n",
       "  )\n",
       "  (loss_fn): CrossEntropyLoss()\n",
       "  (accuracy): MulticlassAccuracy()\n",
       "  (train_accuracy): MulticlassAccuracy()\n",
       ")"
      ]
     },
     "execution_count": 7,
     "metadata": {},
     "output_type": "execute_result"
    }
   ],
   "source": [
    "rnn_trainer = RNNTrainer(\n",
    "    model=rnn,\n",
    "\n",
    ")\n",
    "\n",
    "rnn_trainer.to(DEVICE)"
   ]
  },
  {
   "cell_type": "code",
   "execution_count": 8,
   "id": "445f69ac",
   "metadata": {},
   "outputs": [
    {
     "name": "stderr",
     "output_type": "stream",
     "text": [
      "Trainer already configured with model summary callbacks: [<class 'lightning.pytorch.callbacks.rich_model_summary.RichModelSummary'>]. Skipping setting a default `ModelSummary` callback.\n",
      "GPU available: True (cuda), used: False\n",
      "TPU available: False, using: 0 TPU cores\n",
      "HPU available: False, using: 0 HPUs\n",
      "/home/chanokin/innatera/audio_digit_classifier/.venv/lib/python3.12/site-packages/lightning/pytorch/trainer/setup.py:177: GPU available but not used. You can set it by doing `Trainer(accelerator='gpu')`.\n"
     ]
    }
   ],
   "source": [
    "trainer = Trainer(\n",
    "    default_root_dir=default_root_dir,\n",
    "    accelerator=\"cuda\" if USE_GPU else \"cpu\",\n",
    "    # amp_type=\"apex\",\n",
    "    # max_epochs=30 if i == 0 else 10,\n",
    "    max_epochs=MAX_EPOCHS,\n",
    "    # strategy=\"ddp\",\n",
    "    callbacks=[\n",
    "        ModelCheckpoint(),\n",
    "        RichProgressBar(),\n",
    "        LearningRateMonitor(\"epoch\"),\n",
    "        # PlotWeightsOnEpochEndCallback(),\n",
    "        # PlotWeightsOnTrainStartCallback(),\n",
    "        # EarlyStopping(monitor=\"val_acc\", patience=10, mode=\"max\"),\n",
    "        RichModelSummary(max_depth=3),\n",
    "    ],\n",
    "    logger=mlf_logger,\n",
    ")\n"
   ]
  },
  {
   "cell_type": "code",
   "execution_count": 9,
   "id": "fc0b27e3",
   "metadata": {},
   "outputs": [
    {
     "name": "stderr",
     "output_type": "stream",
     "text": [
      "2025/05/06 14:20:01 WARNING mlflow.tracking.fluent: Cannot retrieve experiment by name rnn_model_ptq_sony\n",
      "Experiment with name rnn_model_ptq_sony not found. Creating it.\n"
     ]
    },
    {
     "name": "stdout",
     "output_type": "stream",
     "text": [
      "Retraining model\n"
     ]
    },
    {
     "data": {
      "text/html": [
       "<pre style=\"white-space:pre;overflow-x:auto;line-height:normal;font-family:Menlo,'DejaVu Sans Mono',consolas,'Courier New',monospace\">┏━━━┳━━━━━━━━━━━━━━━━━━━━━━━━━━┳━━━━━━━━━━━━━━━━━━━━┳━━━━━━━━┳━━━━━━━┓\n",
       "┃<span style=\"color: #800080; text-decoration-color: #800080; font-weight: bold\">   </span>┃<span style=\"color: #800080; text-decoration-color: #800080; font-weight: bold\"> Name                     </span>┃<span style=\"color: #800080; text-decoration-color: #800080; font-weight: bold\"> Type               </span>┃<span style=\"color: #800080; text-decoration-color: #800080; font-weight: bold\"> Params </span>┃<span style=\"color: #800080; text-decoration-color: #800080; font-weight: bold\"> Mode  </span>┃\n",
       "┡━━━╇━━━━━━━━━━━━━━━━━━━━━━━━━━╇━━━━━━━━━━━━━━━━━━━━╇━━━━━━━━╇━━━━━━━┩\n",
       "│<span style=\"color: #7f7f7f; text-decoration-color: #7f7f7f\"> 0 </span>│ model                    │ RNN                │ 31.2 K │ train │\n",
       "│<span style=\"color: #7f7f7f; text-decoration-color: #7f7f7f\"> 1 </span>│ model.lstm               │ LSTM               │ 30.4 K │ train │\n",
       "│<span style=\"color: #7f7f7f; text-decoration-color: #7f7f7f\"> 2 </span>│ model.linear_000         │ LSD                │    810 │ train │\n",
       "│<span style=\"color: #7f7f7f; text-decoration-color: #7f7f7f\"> 3 </span>│ model.linear_000.linear  │ Linear             │    810 │ train │\n",
       "│<span style=\"color: #7f7f7f; text-decoration-color: #7f7f7f\"> 4 </span>│ model.linear_000.act     │ SiLU               │      0 │ train │\n",
       "│<span style=\"color: #7f7f7f; text-decoration-color: #7f7f7f\"> 5 </span>│ model.linear_000.dropout │ Dropout            │      0 │ train │\n",
       "│<span style=\"color: #7f7f7f; text-decoration-color: #7f7f7f\"> 6 </span>│ loss_fn                  │ CrossEntropyLoss   │      0 │ train │\n",
       "│<span style=\"color: #7f7f7f; text-decoration-color: #7f7f7f\"> 7 </span>│ accuracy                 │ MulticlassAccuracy │      0 │ train │\n",
       "│<span style=\"color: #7f7f7f; text-decoration-color: #7f7f7f\"> 8 </span>│ train_accuracy           │ MulticlassAccuracy │      0 │ train │\n",
       "└───┴──────────────────────────┴────────────────────┴────────┴───────┘\n",
       "</pre>\n"
      ],
      "text/plain": [
       "┏━━━┳━━━━━━━━━━━━━━━━━━━━━━━━━━┳━━━━━━━━━━━━━━━━━━━━┳━━━━━━━━┳━━━━━━━┓\n",
       "┃\u001b[1;35m \u001b[0m\u001b[1;35m \u001b[0m\u001b[1;35m \u001b[0m┃\u001b[1;35m \u001b[0m\u001b[1;35mName                    \u001b[0m\u001b[1;35m \u001b[0m┃\u001b[1;35m \u001b[0m\u001b[1;35mType              \u001b[0m\u001b[1;35m \u001b[0m┃\u001b[1;35m \u001b[0m\u001b[1;35mParams\u001b[0m\u001b[1;35m \u001b[0m┃\u001b[1;35m \u001b[0m\u001b[1;35mMode \u001b[0m\u001b[1;35m \u001b[0m┃\n",
       "┡━━━╇━━━━━━━━━━━━━━━━━━━━━━━━━━╇━━━━━━━━━━━━━━━━━━━━╇━━━━━━━━╇━━━━━━━┩\n",
       "│\u001b[2m \u001b[0m\u001b[2m0\u001b[0m\u001b[2m \u001b[0m│ model                    │ RNN                │ 31.2 K │ train │\n",
       "│\u001b[2m \u001b[0m\u001b[2m1\u001b[0m\u001b[2m \u001b[0m│ model.lstm               │ LSTM               │ 30.4 K │ train │\n",
       "│\u001b[2m \u001b[0m\u001b[2m2\u001b[0m\u001b[2m \u001b[0m│ model.linear_000         │ LSD                │    810 │ train │\n",
       "│\u001b[2m \u001b[0m\u001b[2m3\u001b[0m\u001b[2m \u001b[0m│ model.linear_000.linear  │ Linear             │    810 │ train │\n",
       "│\u001b[2m \u001b[0m\u001b[2m4\u001b[0m\u001b[2m \u001b[0m│ model.linear_000.act     │ SiLU               │      0 │ train │\n",
       "│\u001b[2m \u001b[0m\u001b[2m5\u001b[0m\u001b[2m \u001b[0m│ model.linear_000.dropout │ Dropout            │      0 │ train │\n",
       "│\u001b[2m \u001b[0m\u001b[2m6\u001b[0m\u001b[2m \u001b[0m│ loss_fn                  │ CrossEntropyLoss   │      0 │ train │\n",
       "│\u001b[2m \u001b[0m\u001b[2m7\u001b[0m\u001b[2m \u001b[0m│ accuracy                 │ MulticlassAccuracy │      0 │ train │\n",
       "│\u001b[2m \u001b[0m\u001b[2m8\u001b[0m\u001b[2m \u001b[0m│ train_accuracy           │ MulticlassAccuracy │      0 │ train │\n",
       "└───┴──────────────────────────┴────────────────────┴────────┴───────┘\n"
      ]
     },
     "metadata": {},
     "output_type": "display_data"
    },
    {
     "data": {
      "text/html": [
       "<pre style=\"white-space:pre;overflow-x:auto;line-height:normal;font-family:Menlo,'DejaVu Sans Mono',consolas,'Courier New',monospace\"><span style=\"font-weight: bold\">Trainable params</span>: 31.2 K                                                                                           \n",
       "<span style=\"font-weight: bold\">Non-trainable params</span>: 0                                                                                            \n",
       "<span style=\"font-weight: bold\">Total params</span>: 31.2 K                                                                                               \n",
       "<span style=\"font-weight: bold\">Total estimated model params size (MB)</span>: 0                                                                          \n",
       "<span style=\"font-weight: bold\">Modules in train mode</span>: 9                                                                                           \n",
       "<span style=\"font-weight: bold\">Modules in eval mode</span>: 0                                                                                            \n",
       "</pre>\n"
      ],
      "text/plain": [
       "\u001b[1mTrainable params\u001b[0m: 31.2 K                                                                                           \n",
       "\u001b[1mNon-trainable params\u001b[0m: 0                                                                                            \n",
       "\u001b[1mTotal params\u001b[0m: 31.2 K                                                                                               \n",
       "\u001b[1mTotal estimated model params size (MB)\u001b[0m: 0                                                                          \n",
       "\u001b[1mModules in train mode\u001b[0m: 9                                                                                           \n",
       "\u001b[1mModules in eval mode\u001b[0m: 0                                                                                            \n"
      ]
     },
     "metadata": {},
     "output_type": "display_data"
    },
    {
     "data": {
      "application/vnd.jupyter.widget-view+json": {
       "model_id": "9178421badbc48fcbe309cac5a9e08ba",
       "version_major": 2,
       "version_minor": 0
      },
      "text/plain": [
       "Output()"
      ]
     },
     "metadata": {},
     "output_type": "display_data"
    },
    {
     "name": "stderr",
     "output_type": "stream",
     "text": [
      "`Trainer.fit` stopped: `max_epochs=50` reached.\n"
     ]
    },
    {
     "data": {
      "text/html": [
       "<pre style=\"white-space:pre;overflow-x:auto;line-height:normal;font-family:Menlo,'DejaVu Sans Mono',consolas,'Courier New',monospace\"></pre>\n"
      ],
      "text/plain": []
     },
     "metadata": {},
     "output_type": "display_data"
    }
   ],
   "source": [
    "import mlflow\n",
    "\n",
    "latest = mlflow.search_runs(experiment_names=[EXPERIMENT_NAME], order_by=[\"start_time desc\"], max_results=1, filter_string=\"status='FINISHED'\")\n",
    "\n",
    "retrain = True\n",
    "if len(latest) > 0:\n",
    "    zero = latest.iloc[0]\n",
    "    print(zero)\n",
    "    run_id = zero.run_id\n",
    "    print(f\"Found previous run with id {run_id}\")\n",
    "    exp_id = zero.experiment_id\n",
    "    print(f\"Found previous experiment with id {exp_id}\")\n",
    "    latest_accuracy = zero[\"metrics.val_acc\"]\n",
    "    print(f\"Latest accuracy: {latest_accuracy}\")\n",
    "    retrain = latest_accuracy < 0.95\n",
    "\n",
    "    latest_checkpoint_path = Path(\".\") / \"mlruns\" / exp_id / run_id / \"checkpoints\"\n",
    "    latest_checkpoint = latest_checkpoint_path.glob(\"*.ckpt\")\n",
    "    latest_checkpoint = sorted(latest_checkpoint, key=lambda x: x.stat().st_mtime)[-1]\n",
    "    print(f\"Latest checkpoint: {latest_checkpoint}\")\n",
    "    model = torch.load(latest_checkpoint)\n",
    "    print(type(model), model.keys())\n",
    "    rnn.load_state_dict({k.replace(\"model.\", \"\"): v for k, v in model[\"state_dict\"].items()})\n",
    "    # rnn_trainer.model = rnn\n",
    "    # rnn_trainer.to(DEVICE)\n",
    "\n",
    "if retrain:\n",
    "    print(\"Retraining model\")\n",
    "    trainer.fit(model=rnn_trainer, train_dataloaders=train_loader, val_dataloaders=val_loader)\n",
    "\n",
    "\n",
    "torch.save(rnn.state_dict(), CHECKPOINT_PATH / EXPERIMENT_NAME / f\"rnn_f32.pt\")"
   ]
  },
  {
   "cell_type": "code",
   "execution_count": null,
   "id": "0d748740",
   "metadata": {},
   "outputs": [],
   "source": []
  },
  {
   "cell_type": "code",
   "execution_count": null,
   "id": "c31630bf",
   "metadata": {},
   "outputs": [],
   "source": []
  },
  {
   "cell_type": "code",
   "execution_count": 10,
   "id": "0ab49bd2",
   "metadata": {},
   "outputs": [],
   "source": [
    "from torchmetrics import ConfusionMatrix\n",
    "\n",
    "test_loader = DataLoader(\n",
    "    test_set,\n",
    "    batch_size=1024,\n",
    "    shuffle=False,\n",
    "    num_workers=4,\n",
    "    pin_memory=True,\n",
    "    collate_fn=collate_fn,\n",
    ")\n",
    "\n",
    "\n",
    "confmat = ConfusionMatrix(task=\"multiclass\", normalize='true', num_classes=N_CLASSES, ).to(DEVICE)\n",
    "confmat.reset()\n",
    "\n",
    "\n",
    "rnn.to(DEVICE)\n",
    "rnn.eval()\n",
    "for batch in test_loader:\n",
    "    mfcc, label = batch\n",
    "    mfcc = mfcc.to(DEVICE)\n",
    "    label = label.to(DEVICE)\n",
    "\n",
    "    with torch.no_grad():\n",
    "        pred = rnn(mfcc)\n",
    "\n",
    "    confmat.update(pred, label)\n",
    "\n",
    "\n",
    "matrix = confmat.compute().cpu().numpy()\n",
    "\n"
   ]
  },
  {
   "cell_type": "code",
   "execution_count": 11,
   "id": "48fb9be0",
   "metadata": {},
   "outputs": [
    {
     "name": "stdout",
     "output_type": "stream",
     "text": [
      "[0.97619045 0.95238096 0.95238096 0.9285714  1.         0.95238096\n",
      " 1.         1.         0.8095238  0.9285714 ]\n"
     ]
    },
    {
     "data": {
      "image/png": "[encoded data removed]",
      "text/plain": [
       "<Figure size 500x500 with 2 Axes>"
      ]
     },
     "metadata": {},
     "output_type": "display_data"
    }
   ],
   "source": [
    "\n",
    "# get main diagonal\n",
    "diag = matrix.diagonal()\n",
    "print(diag)\n",
    "# print(matrix)\n",
    "fig, ax = plt.subplots(figsize=(5, 5))\n",
    "\n",
    "im = ax.imshow(matrix, interpolation='nearest', cmap=plt.cm.Blues, vmin=0, vmax=1)\n",
    "ax.set_title(f\"Confusion Matrix\\n(~{100*diag.mean():.1f}% test accuracy)\")\n",
    "ax.set_xlabel(\"Predicted\")\n",
    "ax.set_ylabel(\"True\")\n",
    "ax.set_xticks(range(N_CLASSES))\n",
    "ax.set_yticks(range(N_CLASSES))\n",
    "ax.set_xticklabels(range(N_CLASSES))\n",
    "ax.set_yticklabels(range(N_CLASSES))\n",
    "plt.colorbar(im, ax=ax)\n",
    "plt.show()"
   ]
  },
  {
   "cell_type": "markdown",
   "id": "3bed3444",
   "metadata": {},
   "source": [
    "## Size/Accuracy stats\n",
    "Model size: 74.5K params (@ 32-bit float) = 297.6KB \n",
    "\n",
    "\n",
    "Accuracy is about 95% in the test set."
   ]
  },
  {
   "cell_type": "code",
   "execution_count": 12,
   "id": "728026a4",
   "metadata": {},
   "outputs": [],
   "source": [
    "\n",
    "batch_size = 16\n",
    "n_iter = 10\n",
    "\n",
    "\n",
    "def representative_dataset_gen():\n",
    "    dataloader_iter = iter(val_loader)\n",
    "    for _ in range(n_iter):\n",
    "        yield [next(dataloader_iter)[0]]\n"
   ]
  },
  {
   "cell_type": "code",
   "execution_count": 13,
   "id": "bdc0d007",
   "metadata": {},
   "outputs": [],
   "source": [
    "\n",
    "import model_compression_toolkit as mct\n",
    "\n",
    "# Get a FrameworkQuantizationCapabilities object that models the hardware platform for the quantized model inference. Here, for example, we use the default platform that is attached to a Pytorch layers representation.\n",
    "target_platform_cap = mct.get_target_platform_capabilities('pytorch', 'default')\n"
   ]
  },
  {
   "cell_type": "code",
   "execution_count": 15,
   "id": "95b2c898",
   "metadata": {},
   "outputs": [
    {
     "name": "stderr",
     "output_type": "stream",
     "text": [
      "CRITICAL:Model Compression Toolkit:Error parsing model with torch.fx\n",
      "fx error: Proxy object cannot be iterated. This can be attempted when the Proxy is used in a loop or as a *args or **kwargs function argument. See the torch.fx docs on pytorch.org for a more detailed explanation of what types of control flow can be traced, and check out the Proxy docstring for help troubleshooting Proxy iteration errors\n"
     ]
    },
    {
     "ename": "Exception",
     "evalue": "Error parsing model with torch.fx\nfx error: Proxy object cannot be iterated. This can be attempted when the Proxy is used in a loop or as a *args or **kwargs function argument. See the torch.fx docs on pytorch.org for a more detailed explanation of what types of control flow can be traced, and check out the Proxy docstring for help troubleshooting Proxy iteration errors",
     "output_type": "error",
     "traceback": [
      "\u001b[31m---------------------------------------------------------------------------\u001b[39m",
      "\u001b[31mTraceError\u001b[39m                                Traceback (most recent call last)",
      "\u001b[36mFile \u001b[39m\u001b[32m~/innatera/audio_digit_classifier/.venv/lib/python3.12/site-packages/model_compression_toolkit/core/pytorch/reader/reader.py:90\u001b[39m, in \u001b[36mfx_graph_module_generation\u001b[39m\u001b[34m(pytorch_model, representative_data_gen, to_tensor)\u001b[39m\n\u001b[32m     89\u001b[39m \u001b[38;5;28;01mtry\u001b[39;00m:\n\u001b[32m---> \u001b[39m\u001b[32m90\u001b[39m     symbolic_traced = \u001b[43msymbolic_trace\u001b[49m\u001b[43m(\u001b[49m\u001b[43mpytorch_model\u001b[49m\u001b[43m)\u001b[49m\n\u001b[32m     91\u001b[39m \u001b[38;5;28;01mexcept\u001b[39;00m torch.fx.proxy.TraceError \u001b[38;5;28;01mas\u001b[39;00m e:\n",
      "\u001b[36mFile \u001b[39m\u001b[32m~/innatera/audio_digit_classifier/.venv/lib/python3.12/site-packages/torch/fx/_symbolic_trace.py:1314\u001b[39m, in \u001b[36msymbolic_trace\u001b[39m\u001b[34m(root, concrete_args)\u001b[39m\n\u001b[32m   1313\u001b[39m tracer = Tracer()\n\u001b[32m-> \u001b[39m\u001b[32m1314\u001b[39m graph = \u001b[43mtracer\u001b[49m\u001b[43m.\u001b[49m\u001b[43mtrace\u001b[49m\u001b[43m(\u001b[49m\u001b[43mroot\u001b[49m\u001b[43m,\u001b[49m\u001b[43m \u001b[49m\u001b[43mconcrete_args\u001b[49m\u001b[43m)\u001b[49m\n\u001b[32m   1315\u001b[39m name = (\n\u001b[32m   1316\u001b[39m     root.\u001b[34m__class__\u001b[39m.\u001b[34m__name__\u001b[39m \u001b[38;5;28;01mif\u001b[39;00m \u001b[38;5;28misinstance\u001b[39m(root, torch.nn.Module) \u001b[38;5;28;01melse\u001b[39;00m root.\u001b[34m__name__\u001b[39m\n\u001b[32m   1317\u001b[39m )\n",
      "\u001b[36mFile \u001b[39m\u001b[32m~/innatera/audio_digit_classifier/.venv/lib/python3.12/site-packages/torch/fx/_symbolic_trace.py:838\u001b[39m, in \u001b[36mTracer.trace\u001b[39m\u001b[34m(self, root, concrete_args)\u001b[39m\n\u001b[32m    832\u001b[39m         _autowrap_check(\n\u001b[32m    833\u001b[39m             patcher, module.\u001b[34m__dict__\u001b[39m, \u001b[38;5;28mself\u001b[39m._autowrap_function_ids\n\u001b[32m    834\u001b[39m         )\n\u001b[32m    835\u001b[39m     \u001b[38;5;28mself\u001b[39m.create_node(\n\u001b[32m    836\u001b[39m         \u001b[33m\"\u001b[39m\u001b[33moutput\u001b[39m\u001b[33m\"\u001b[39m,\n\u001b[32m    837\u001b[39m         \u001b[33m\"\u001b[39m\u001b[33moutput\u001b[39m\u001b[33m\"\u001b[39m,\n\u001b[32m--> \u001b[39m\u001b[32m838\u001b[39m         (\u001b[38;5;28mself\u001b[39m.create_arg(\u001b[43mfn\u001b[49m\u001b[43m(\u001b[49m\u001b[43m*\u001b[49m\u001b[43margs\u001b[49m\u001b[43m)\u001b[49m),),\n\u001b[32m    839\u001b[39m         {},\n\u001b[32m    840\u001b[39m         type_expr=fn.\u001b[34m__annotations__\u001b[39m.get(\u001b[33m\"\u001b[39m\u001b[33mreturn\u001b[39m\u001b[33m\"\u001b[39m, \u001b[38;5;28;01mNone\u001b[39;00m),\n\u001b[32m    841\u001b[39m     )\n\u001b[32m    843\u001b[39m \u001b[38;5;28mself\u001b[39m.submodule_paths = \u001b[38;5;28;01mNone\u001b[39;00m\n",
      "\u001b[36mFile \u001b[39m\u001b[32m~/innatera/audio_digit_classifier/sdc/rnn.py:60\u001b[39m, in \u001b[36mRNN.forward\u001b[39m\u001b[34m(self, x)\u001b[39m\n\u001b[32m     58\u001b[39m \u001b[38;5;28;01mdef\u001b[39;00m\u001b[38;5;250m \u001b[39m\u001b[34mforward\u001b[39m(\u001b[38;5;28mself\u001b[39m, x):\n\u001b[32m     59\u001b[39m     \u001b[38;5;66;03m# x: (batch_size, seq_len, mfcc_size, frames)\u001b[39;00m\n\u001b[32m---> \u001b[39m\u001b[32m60\u001b[39m     x = \u001b[43mpad_sequence\u001b[49m\u001b[43m(\u001b[49m\u001b[43mx\u001b[49m\u001b[43m,\u001b[49m\u001b[43m \u001b[49m\u001b[43mbatch_first\u001b[49m\u001b[43m=\u001b[49m\u001b[38;5;28;43;01mTrue\u001b[39;49;00m\u001b[43m)\u001b[49m\n\u001b[32m     62\u001b[39m     x, _ = \u001b[38;5;28mself\u001b[39m.lstm(x)\n",
      "\u001b[36mFile \u001b[39m\u001b[32m~/innatera/audio_digit_classifier/.venv/lib/python3.12/site-packages/torch/nn/utils/rnn.py:467\u001b[39m, in \u001b[36mpad_sequence\u001b[39m\u001b[34m(sequences, batch_first, padding_value, padding_side)\u001b[39m\n\u001b[32m    465\u001b[39m     \u001b[38;5;66;03m# In JIT context this leads to,\u001b[39;00m\n\u001b[32m    466\u001b[39m     \u001b[38;5;66;03m# RuntimeError: cannot statically infer the expected size of a list in this context\u001b[39;00m\n\u001b[32m--> \u001b[39m\u001b[32m467\u001b[39m     sequences = \u001b[38;5;28;43mtuple\u001b[39;49m\u001b[43m(\u001b[49m\u001b[43msequences\u001b[49m\u001b[43m)\u001b[49m  \u001b[38;5;66;03m# type: ignore[assignment]\u001b[39;00m\n\u001b[32m    468\u001b[39m \u001b[38;5;28;01melse\u001b[39;00m:\n\u001b[32m    469\u001b[39m     \u001b[38;5;66;03m# For JIT, we only support Union[Tensor, Tuple[Tensor]]\u001b[39;00m\n",
      "\u001b[36mFile \u001b[39m\u001b[32m~/innatera/audio_digit_classifier/.venv/lib/python3.12/site-packages/torch/fx/proxy.py:520\u001b[39m, in \u001b[36mProxy.__iter__\u001b[39m\u001b[34m(self)\u001b[39m\n\u001b[32m    518\u001b[39m     \u001b[38;5;28;01mreturn\u001b[39;00m (\u001b[38;5;28mself\u001b[39m[i] \u001b[38;5;28;01mfor\u001b[39;00m i \u001b[38;5;129;01min\u001b[39;00m \u001b[38;5;28mrange\u001b[39m(inst.argval))  \u001b[38;5;66;03m# type: ignore[index]\u001b[39;00m\n\u001b[32m--> \u001b[39m\u001b[32m520\u001b[39m \u001b[38;5;28;01mreturn\u001b[39;00m \u001b[38;5;28;43mself\u001b[39;49m\u001b[43m.\u001b[49m\u001b[43mtracer\u001b[49m\u001b[43m.\u001b[49m\u001b[43miter\u001b[49m\u001b[43m(\u001b[49m\u001b[38;5;28;43mself\u001b[39;49m\u001b[43m)\u001b[49m\n",
      "\u001b[36mFile \u001b[39m\u001b[32m~/innatera/audio_digit_classifier/.venv/lib/python3.12/site-packages/torch/fx/proxy.py:377\u001b[39m, in \u001b[36mTracerBase.iter\u001b[39m\u001b[34m(self, obj)\u001b[39m\n\u001b[32m    372\u001b[39m \u001b[38;5;250m\u001b[39m\u001b[33;03m\"\"\"Called when a proxy object is being iterated over, such as\u001b[39;00m\n\u001b[32m    373\u001b[39m \u001b[33;03mwhen used in control flow.  Normally we don't know what to do because\u001b[39;00m\n\u001b[32m    374\u001b[39m \u001b[33;03mwe don't know the value of the proxy, but a custom tracer can attach more\u001b[39;00m\n\u001b[32m    375\u001b[39m \u001b[33;03minformation to the graph node using create_node and can choose to return an iterator.\u001b[39;00m\n\u001b[32m    376\u001b[39m \u001b[33;03m\"\"\"\u001b[39;00m\n\u001b[32m--> \u001b[39m\u001b[32m377\u001b[39m \u001b[38;5;28;01mraise\u001b[39;00m TraceError(\n\u001b[32m    378\u001b[39m     \u001b[33m\"\u001b[39m\u001b[33mProxy object cannot be iterated. This can be \u001b[39m\u001b[33m\"\u001b[39m\n\u001b[32m    379\u001b[39m     \u001b[33m\"\u001b[39m\u001b[33mattempted when the Proxy is used in a loop or\u001b[39m\u001b[33m\"\u001b[39m\n\u001b[32m    380\u001b[39m     \u001b[33m\"\u001b[39m\u001b[33m as a *args or **kwargs function argument. \u001b[39m\u001b[33m\"\u001b[39m\n\u001b[32m    381\u001b[39m     \u001b[33m\"\u001b[39m\u001b[33mSee the torch.fx docs on pytorch.org for a \u001b[39m\u001b[33m\"\u001b[39m\n\u001b[32m    382\u001b[39m     \u001b[33m\"\u001b[39m\u001b[33mmore detailed explanation of what types of \u001b[39m\u001b[33m\"\u001b[39m\n\u001b[32m    383\u001b[39m     \u001b[33m\"\u001b[39m\u001b[33mcontrol flow can be traced, and check out the\u001b[39m\u001b[33m\"\u001b[39m\n\u001b[32m    384\u001b[39m     \u001b[33m\"\u001b[39m\u001b[33m Proxy docstring for help troubleshooting \u001b[39m\u001b[33m\"\u001b[39m\n\u001b[32m    385\u001b[39m     \u001b[33m\"\u001b[39m\u001b[33mProxy iteration errors\u001b[39m\u001b[33m\"\u001b[39m\n\u001b[32m    386\u001b[39m )\n",
      "\u001b[31mTraceError\u001b[39m: Proxy object cannot be iterated. This can be attempted when the Proxy is used in a loop or as a *args or **kwargs function argument. See the torch.fx docs on pytorch.org for a more detailed explanation of what types of control flow can be traced, and check out the Proxy docstring for help troubleshooting Proxy iteration errors",
      "\nDuring handling of the above exception, another exception occurred:\n",
      "\u001b[31mException\u001b[39m                                 Traceback (most recent call last)",
      "\u001b[36mCell\u001b[39m\u001b[36m \u001b[39m\u001b[32mIn[15]\u001b[39m\u001b[32m, line 1\u001b[39m\n\u001b[32m----> \u001b[39m\u001b[32m1\u001b[39m quantized_model, quantization_info = \u001b[43mmct\u001b[49m\u001b[43m.\u001b[49m\u001b[43mptq\u001b[49m\u001b[43m.\u001b[49m\u001b[43mpytorch_post_training_quantization\u001b[49m\u001b[43m(\u001b[49m\n\u001b[32m      2\u001b[39m \u001b[43m        \u001b[49m\u001b[43min_module\u001b[49m\u001b[43m=\u001b[49m\u001b[43mrnn\u001b[49m\u001b[43m,\u001b[49m\n\u001b[32m      3\u001b[39m \u001b[43m        \u001b[49m\u001b[43mrepresentative_data_gen\u001b[49m\u001b[43m=\u001b[49m\u001b[43mrepresentative_dataset_gen\u001b[49m\u001b[43m,\u001b[49m\n\u001b[32m      4\u001b[39m \u001b[43m        \u001b[49m\u001b[43mtarget_platform_capabilities\u001b[49m\u001b[43m=\u001b[49m\u001b[43mtarget_platform_cap\u001b[49m\n\u001b[32m      5\u001b[39m \u001b[43m)\u001b[49m\n",
      "\u001b[36mFile \u001b[39m\u001b[32m~/innatera/audio_digit_classifier/.venv/lib/python3.12/site-packages/model_compression_toolkit/ptq/pytorch/quantization_facade.py:120\u001b[39m, in \u001b[36mpytorch_post_training_quantization\u001b[39m\u001b[34m(in_module, representative_data_gen, target_resource_utilization, core_config, target_platform_capabilities)\u001b[39m\n\u001b[32m    116\u001b[39m framework_platform_capabilities = attach2pytorch.attach(target_platform_capabilities,\n\u001b[32m    117\u001b[39m                                                      core_config.quantization_config.custom_tpc_opset_to_layer)\n\u001b[32m    119\u001b[39m \u001b[38;5;66;03m# Ignore hessian info service as it is not used here yet.\u001b[39;00m\n\u001b[32m--> \u001b[39m\u001b[32m120\u001b[39m tg, bit_widths_config, _, scheduling_info = \u001b[43mcore_runner\u001b[49m\u001b[43m(\u001b[49m\u001b[43min_model\u001b[49m\u001b[43m=\u001b[49m\u001b[43min_module\u001b[49m\u001b[43m,\u001b[49m\n\u001b[32m    121\u001b[39m \u001b[43m                                                        \u001b[49m\u001b[43mrepresentative_data_gen\u001b[49m\u001b[43m=\u001b[49m\u001b[43mrepresentative_data_gen\u001b[49m\u001b[43m,\u001b[49m\n\u001b[32m    122\u001b[39m \u001b[43m                                                        \u001b[49m\u001b[43mcore_config\u001b[49m\u001b[43m=\u001b[49m\u001b[43mcore_config\u001b[49m\u001b[43m,\u001b[49m\n\u001b[32m    123\u001b[39m \u001b[43m                                                        \u001b[49m\u001b[43mfw_info\u001b[49m\u001b[43m=\u001b[49m\u001b[43mfw_info\u001b[49m\u001b[43m,\u001b[49m\n\u001b[32m    124\u001b[39m \u001b[43m                                                        \u001b[49m\u001b[43mfw_impl\u001b[49m\u001b[43m=\u001b[49m\u001b[43mfw_impl\u001b[49m\u001b[43m,\u001b[49m\n\u001b[32m    125\u001b[39m \u001b[43m                                                        \u001b[49m\u001b[43mfqc\u001b[49m\u001b[43m=\u001b[49m\u001b[43mframework_platform_capabilities\u001b[49m\u001b[43m,\u001b[49m\n\u001b[32m    126\u001b[39m \u001b[43m                                                        \u001b[49m\u001b[43mtarget_resource_utilization\u001b[49m\u001b[43m=\u001b[49m\u001b[43mtarget_resource_utilization\u001b[49m\u001b[43m,\u001b[49m\n\u001b[32m    127\u001b[39m \u001b[43m                                                        \u001b[49m\u001b[43mtb_w\u001b[49m\u001b[43m=\u001b[49m\u001b[43mtb_w\u001b[49m\u001b[43m)\u001b[49m\n\u001b[32m    129\u001b[39m \u001b[38;5;66;03m# At this point, tg is a graph that went through substitutions (such as BN folding) and is\u001b[39;00m\n\u001b[32m    130\u001b[39m \u001b[38;5;66;03m# ready for quantization (namely, it holds quantization params, etc.) but the weights are\u001b[39;00m\n\u001b[32m    131\u001b[39m \u001b[38;5;66;03m# not quantized yet. For this reason, we use it to create a graph that acts as a \"float\" graph\u001b[39;00m\n\u001b[32m    132\u001b[39m \u001b[38;5;66;03m# for things like similarity analyzer (because the quantized and float graph should have the same\u001b[39;00m\n\u001b[32m    133\u001b[39m \u001b[38;5;66;03m# architecture to find the appropriate compare points for similarity computation).\u001b[39;00m\n\u001b[32m    134\u001b[39m similarity_baseline_graph = copy.deepcopy(tg)\n",
      "\u001b[36mFile \u001b[39m\u001b[32m~/innatera/audio_digit_classifier/.venv/lib/python3.12/site-packages/model_compression_toolkit/core/runner.py:109\u001b[39m, in \u001b[36mcore_runner\u001b[39m\u001b[34m(in_model, representative_data_gen, core_config, fw_info, fw_impl, fqc, target_resource_utilization, running_gptq, tb_w)\u001b[39m\n\u001b[32m    106\u001b[39m         core_config.mixed_precision_config.set_mixed_precision_enable()\n\u001b[32m    107\u001b[39m         Logger.info(\u001b[33m'\u001b[39m\u001b[33mMixed precision enabled.\u001b[39m\u001b[33m'\u001b[39m)\n\u001b[32m--> \u001b[39m\u001b[32m109\u001b[39m graph = \u001b[43mgraph_preparation_runner\u001b[49m\u001b[43m(\u001b[49m\u001b[43min_model\u001b[49m\u001b[43m,\u001b[49m\n\u001b[32m    110\u001b[39m \u001b[43m                                 \u001b[49m\u001b[43mrepresentative_data_gen\u001b[49m\u001b[43m,\u001b[49m\n\u001b[32m    111\u001b[39m \u001b[43m                                 \u001b[49m\u001b[43mcore_config\u001b[49m\u001b[43m.\u001b[49m\u001b[43mquantization_config\u001b[49m\u001b[43m,\u001b[49m\n\u001b[32m    112\u001b[39m \u001b[43m                                 \u001b[49m\u001b[43mfw_info\u001b[49m\u001b[43m,\u001b[49m\n\u001b[32m    113\u001b[39m \u001b[43m                                 \u001b[49m\u001b[43mfw_impl\u001b[49m\u001b[43m,\u001b[49m\n\u001b[32m    114\u001b[39m \u001b[43m                                 \u001b[49m\u001b[43mfqc\u001b[49m\u001b[43m,\u001b[49m\n\u001b[32m    115\u001b[39m \u001b[43m                                 \u001b[49m\u001b[43mcore_config\u001b[49m\u001b[43m.\u001b[49m\u001b[43mbit_width_config\u001b[49m\u001b[43m,\u001b[49m\n\u001b[32m    116\u001b[39m \u001b[43m                                 \u001b[49m\u001b[43mtb_w\u001b[49m\u001b[43m,\u001b[49m\n\u001b[32m    117\u001b[39m \u001b[43m                                 \u001b[49m\u001b[43mmixed_precision_enable\u001b[49m\u001b[43m=\u001b[49m\u001b[43mcore_config\u001b[49m\u001b[43m.\u001b[49m\u001b[43mis_mixed_precision_enabled\u001b[49m\u001b[43m,\u001b[49m\n\u001b[32m    118\u001b[39m \u001b[43m                                 \u001b[49m\u001b[43mrunning_gptq\u001b[49m\u001b[43m=\u001b[49m\u001b[43mrunning_gptq\u001b[49m\u001b[43m)\u001b[49m\n\u001b[32m    120\u001b[39m hessian_info_service = HessianInfoService(graph=graph, fw_impl=fw_impl)\n\u001b[32m    122\u001b[39m tg = quantization_preparation_runner(graph=graph,\n\u001b[32m    123\u001b[39m                                      representative_data_gen=representative_data_gen,\n\u001b[32m    124\u001b[39m                                      core_config=core_config,\n\u001b[32m   (...)\u001b[39m\u001b[32m    127\u001b[39m                                      tb_w=tb_w,\n\u001b[32m    128\u001b[39m                                      hessian_info_service=hessian_info_service)\n",
      "\u001b[36mFile \u001b[39m\u001b[32m~/innatera/audio_digit_classifier/.venv/lib/python3.12/site-packages/model_compression_toolkit/core/graph_prep_runner.py:73\u001b[39m, in \u001b[36mgraph_preparation_runner\u001b[39m\u001b[34m(in_model, representative_data_gen, quantization_config, fw_info, fw_impl, fqc, bit_width_config, tb_w, mixed_precision_enable, running_gptq)\u001b[39m\n\u001b[32m     37\u001b[39m \u001b[38;5;28;01mdef\u001b[39;00m\u001b[38;5;250m \u001b[39m\u001b[34mgraph_preparation_runner\u001b[39m(in_model: Any,\n\u001b[32m     38\u001b[39m                              representative_data_gen: Callable,\n\u001b[32m     39\u001b[39m                              quantization_config: QuantizationConfig,\n\u001b[32m   (...)\u001b[39m\u001b[32m     45\u001b[39m                              mixed_precision_enable: \u001b[38;5;28mbool\u001b[39m = \u001b[38;5;28;01mFalse\u001b[39;00m,\n\u001b[32m     46\u001b[39m                              running_gptq: \u001b[38;5;28mbool\u001b[39m = \u001b[38;5;28;01mFalse\u001b[39;00m) -> Graph:\n\u001b[32m     47\u001b[39m \u001b[38;5;250m    \u001b[39m\u001b[33;03m\"\"\"\u001b[39;00m\n\u001b[32m     48\u001b[39m \u001b[33;03m    Runs all required preparations in order to build a quantization graph from the given model,\u001b[39;00m\n\u001b[32m     49\u001b[39m \u001b[33;03m    quantization configuration and target platform specifications.\u001b[39;00m\n\u001b[32m   (...)\u001b[39m\u001b[32m     70\u001b[39m \u001b[33;03m        An internal graph representation of the input model.\u001b[39;00m\n\u001b[32m     71\u001b[39m \u001b[33;03m    \"\"\"\u001b[39;00m\n\u001b[32m---> \u001b[39m\u001b[32m73\u001b[39m     graph = \u001b[43mread_model_to_graph\u001b[49m\u001b[43m(\u001b[49m\u001b[43min_model\u001b[49m\u001b[43m,\u001b[49m\n\u001b[32m     74\u001b[39m \u001b[43m                                \u001b[49m\u001b[43mrepresentative_data_gen\u001b[49m\u001b[43m,\u001b[49m\n\u001b[32m     75\u001b[39m \u001b[43m                                \u001b[49m\u001b[43mfqc\u001b[49m\u001b[43m,\u001b[49m\n\u001b[32m     76\u001b[39m \u001b[43m                                \u001b[49m\u001b[43mfw_info\u001b[49m\u001b[43m,\u001b[49m\n\u001b[32m     77\u001b[39m \u001b[43m                                \u001b[49m\u001b[43mfw_impl\u001b[49m\u001b[43m)\u001b[49m\n\u001b[32m     79\u001b[39m     \u001b[38;5;28;01mif\u001b[39;00m tb_w \u001b[38;5;129;01mis\u001b[39;00m \u001b[38;5;129;01mnot\u001b[39;00m \u001b[38;5;28;01mNone\u001b[39;00m:\n\u001b[32m     80\u001b[39m         tb_w.add_graph(graph, \u001b[33m'\u001b[39m\u001b[33minitial_graph\u001b[39m\u001b[33m'\u001b[39m)\n",
      "\u001b[36mFile \u001b[39m\u001b[32m~/innatera/audio_digit_classifier/.venv/lib/python3.12/site-packages/model_compression_toolkit/core/graph_prep_runner.py:208\u001b[39m, in \u001b[36mread_model_to_graph\u001b[39m\u001b[34m(in_model, representative_data_gen, fqc, fw_info, fw_impl)\u001b[39m\n\u001b[32m    187\u001b[39m \u001b[38;5;28;01mdef\u001b[39;00m\u001b[38;5;250m \u001b[39m\u001b[34mread_model_to_graph\u001b[39m(in_model: Any,\n\u001b[32m    188\u001b[39m                         representative_data_gen: Callable,\n\u001b[32m    189\u001b[39m                         fqc: FrameworkQuantizationCapabilities,\n\u001b[32m    190\u001b[39m                         fw_info: FrameworkInfo = \u001b[38;5;28;01mNone\u001b[39;00m,\n\u001b[32m    191\u001b[39m                         fw_impl: FrameworkImplementation = \u001b[38;5;28;01mNone\u001b[39;00m) -> Graph:\n\u001b[32m    193\u001b[39m \u001b[38;5;250m    \u001b[39m\u001b[33;03m\"\"\"\u001b[39;00m\n\u001b[32m    194\u001b[39m \u001b[33;03m    Read a model into a graph object.\u001b[39;00m\n\u001b[32m    195\u001b[39m \n\u001b[32m   (...)\u001b[39m\u001b[32m    206\u001b[39m \u001b[33;03m        Graph object that represents the model.\u001b[39;00m\n\u001b[32m    207\u001b[39m \u001b[33;03m    \"\"\"\u001b[39;00m\n\u001b[32m--> \u001b[39m\u001b[32m208\u001b[39m     graph = \u001b[43mfw_impl\u001b[49m\u001b[43m.\u001b[49m\u001b[43mmodel_reader\u001b[49m\u001b[43m(\u001b[49m\u001b[43min_model\u001b[49m\u001b[43m,\u001b[49m\n\u001b[32m    209\u001b[39m \u001b[43m                                 \u001b[49m\u001b[43mrepresentative_data_gen\u001b[49m\u001b[43m)\u001b[49m\n\u001b[32m    210\u001b[39m     graph.set_fw_info(fw_info)\n\u001b[32m    211\u001b[39m     graph.set_fqc(fqc)\n",
      "\u001b[36mFile \u001b[39m\u001b[32m~/innatera/audio_digit_classifier/.venv/lib/python3.12/site-packages/model_compression_toolkit/core/pytorch/pytorch_implementation.py:158\u001b[39m, in \u001b[36mPytorchImplementation.model_reader\u001b[39m\u001b[34m(self, module, representative_data_gen)\u001b[39m\n\u001b[32m    156\u001b[39m _module = deepcopy(module)\n\u001b[32m    157\u001b[39m _module.eval()\n\u001b[32m--> \u001b[39m\u001b[32m158\u001b[39m \u001b[38;5;28;01mreturn\u001b[39;00m \u001b[43mmodel_reader\u001b[49m\u001b[43m(\u001b[49m\u001b[43m_module\u001b[49m\u001b[43m,\u001b[49m\u001b[43m \u001b[49m\u001b[43mrepresentative_data_gen\u001b[49m\u001b[43m,\u001b[49m\u001b[43m \u001b[49m\u001b[38;5;28;43mself\u001b[39;49m\u001b[43m.\u001b[49m\u001b[43mto_numpy\u001b[49m\u001b[43m,\u001b[49m\u001b[43m \u001b[49m\u001b[38;5;28;43mself\u001b[39;49m\u001b[43m.\u001b[49m\u001b[43mto_tensor\u001b[49m\u001b[43m)\u001b[49m\n",
      "\u001b[36mFile \u001b[39m\u001b[32m~/innatera/audio_digit_classifier/.venv/lib/python3.12/site-packages/model_compression_toolkit/core/pytorch/reader/reader.py:153\u001b[39m, in \u001b[36mmodel_reader\u001b[39m\u001b[34m(model, representative_data_gen, to_numpy, to_tensor)\u001b[39m\n\u001b[32m    140\u001b[39m \u001b[38;5;250m\u001b[39m\u001b[33;03m\"\"\"\u001b[39;00m\n\u001b[32m    141\u001b[39m \u001b[33;03mReads a Pytorch model and converts it to an FX Graph using the fx toolkit. Then, builds a base graph representing\u001b[39;00m\n\u001b[32m    142\u001b[39m \u001b[33;03mthe fx graph. Finally, we filter \"broken nodes\" (nodes without outputs, for example: \"assert\").\u001b[39;00m\n\u001b[32m   (...)\u001b[39m\u001b[32m    150\u001b[39m \u001b[33;03m    Base graph of the Pytorch model.\u001b[39;00m\n\u001b[32m    151\u001b[39m \u001b[33;03m\"\"\"\u001b[39;00m\n\u001b[32m    152\u001b[39m logging.info(\u001b[33m\"\u001b[39m\u001b[33mStart Model Reading...\u001b[39m\u001b[33m\"\u001b[39m)\n\u001b[32m--> \u001b[39m\u001b[32m153\u001b[39m fx_model = \u001b[43mfx_graph_module_generation\u001b[49m\u001b[43m(\u001b[49m\u001b[43mmodel\u001b[49m\u001b[43m,\u001b[49m\u001b[43m \u001b[49m\u001b[43mrepresentative_data_gen\u001b[49m\u001b[43m,\u001b[49m\u001b[43m \u001b[49m\u001b[43mto_tensor\u001b[49m\u001b[43m)\u001b[49m\n\u001b[32m    154\u001b[39m graph = build_graph(fx_model, to_numpy)\n\u001b[32m    155\u001b[39m graph = remove_broken_nodes_from_graph(graph)\n",
      "\u001b[36mFile \u001b[39m\u001b[32m~/innatera/audio_digit_classifier/.venv/lib/python3.12/site-packages/model_compression_toolkit/core/pytorch/reader/reader.py:92\u001b[39m, in \u001b[36mfx_graph_module_generation\u001b[39m\u001b[34m(pytorch_model, representative_data_gen, to_tensor)\u001b[39m\n\u001b[32m     90\u001b[39m     symbolic_traced = symbolic_trace(pytorch_model)\n\u001b[32m     91\u001b[39m \u001b[38;5;28;01mexcept\u001b[39;00m torch.fx.proxy.TraceError \u001b[38;5;28;01mas\u001b[39;00m e:\n\u001b[32m---> \u001b[39m\u001b[32m92\u001b[39m     \u001b[43mLogger\u001b[49m\u001b[43m.\u001b[49m\u001b[43mcritical\u001b[49m\u001b[43m(\u001b[49m\u001b[33;43mf\u001b[39;49m\u001b[33;43m'\u001b[39;49m\u001b[33;43mError parsing model with torch.fx\u001b[39;49m\u001b[38;5;130;43;01m\\n\u001b[39;49;00m\u001b[33;43m'\u001b[39;49m\n\u001b[32m     93\u001b[39m \u001b[43m                    \u001b[49m\u001b[33;43mf\u001b[39;49m\u001b[33;43m'\u001b[39;49m\u001b[33;43mfx error: \u001b[39;49m\u001b[38;5;132;43;01m{\u001b[39;49;00m\u001b[43me\u001b[49m\u001b[38;5;132;43;01m}\u001b[39;49;00m\u001b[33;43m'\u001b[39;49m\u001b[43m)\u001b[49m\n\u001b[32m     94\u001b[39m inputs = \u001b[38;5;28mnext\u001b[39m(representative_data_gen())\n\u001b[32m     95\u001b[39m input_for_shape_infer = [to_tensor(i) \u001b[38;5;28;01mfor\u001b[39;00m i \u001b[38;5;129;01min\u001b[39;00m inputs]\n",
      "\u001b[36mFile \u001b[39m\u001b[32m~/innatera/audio_digit_classifier/.venv/lib/python3.12/site-packages/model_compression_toolkit/logger.py:117\u001b[39m, in \u001b[36mLogger.critical\u001b[39m\u001b[34m(msg)\u001b[39m\n\u001b[32m    110\u001b[39m \u001b[38;5;250m\u001b[39m\u001b[33;03m\"\"\"\u001b[39;00m\n\u001b[32m    111\u001b[39m \u001b[33;03mLog a message at 'critical' severity and raise an exception.\u001b[39;00m\n\u001b[32m    112\u001b[39m \u001b[33;03mArgs:\u001b[39;00m\n\u001b[32m    113\u001b[39m \u001b[33;03m    msg: Message to log.\u001b[39;00m\n\u001b[32m    114\u001b[39m \n\u001b[32m    115\u001b[39m \u001b[33;03m\"\"\"\u001b[39;00m\n\u001b[32m    116\u001b[39m Logger.get_logger().critical(msg)\n\u001b[32m--> \u001b[39m\u001b[32m117\u001b[39m \u001b[38;5;28;01mraise\u001b[39;00m \u001b[38;5;167;01mException\u001b[39;00m(msg)\n",
      "\u001b[31mException\u001b[39m: Error parsing model with torch.fx\nfx error: Proxy object cannot be iterated. This can be attempted when the Proxy is used in a loop or as a *args or **kwargs function argument. See the torch.fx docs on pytorch.org for a more detailed explanation of what types of control flow can be traced, and check out the Proxy docstring for help troubleshooting Proxy iteration errors"
     ]
    }
   ],
   "source": [
    "quantized_model, quantization_info = mct.ptq.pytorch_post_training_quantization(\n",
    "        in_module=rnn,\n",
    "        representative_data_gen=representative_dataset_gen,\n",
    "        target_platform_capabilities=target_platform_cap\n",
    ")\n"
   ]
  },
  {
   "cell_type": "code",
   "execution_count": 16,
   "id": "87b0f07d",
   "metadata": {},
   "outputs": [],
   "source": [
    "\n",
    "confmat = ConfusionMatrix(task=\"multiclass\", normalize='true', num_classes=N_CLASSES, ).to(DEVICE)\n",
    "confmat.reset()\n",
    "\n",
    "\n",
    "model_int8.to(DEVICE)\n",
    "model_int8.eval()\n",
    "for batch in test_loader:\n",
    "    mfcc, label = batch\n",
    "    mfcc = mfcc.to(DEVICE)\n",
    "    label = label.to(DEVICE)\n",
    "\n",
    "    with torch.no_grad():\n",
    "        pred = model_int8(mfcc)\n",
    "\n",
    "    confmat.update(pred, label)\n",
    "\n",
    "\n",
    "matrix = confmat.compute().cpu().numpy()\n",
    "\n"
   ]
  },
  {
   "cell_type": "code",
   "execution_count": 17,
   "id": "ceb48da7",
   "metadata": {},
   "outputs": [
    {
     "name": "stdout",
     "output_type": "stream",
     "text": [
      "[0.97619045 1.         0.9047619  0.88095236 0.97619045 0.97619045\n",
      " 0.9285714  1.         0.95238096 1.        ]\n"
     ]
    },
    {
     "data": {
      "image/png": "[encoded data removed]",
      "text/plain": [
       "<Figure size 500x500 with 2 Axes>"
      ]
     },
     "metadata": {},
     "output_type": "display_data"
    }
   ],
   "source": [
    "\n",
    "# get main diagonal\n",
    "diag = matrix.diagonal()\n",
    "print(diag)\n",
    "# print(matrix)\n",
    "fig, ax = plt.subplots(figsize=(5, 5))\n",
    "\n",
    "im = ax.imshow(matrix, interpolation='nearest', cmap=plt.cm.Blues, vmin=0, vmax=1)\n",
    "ax.set_title(f\"Confusion Matrix\\n(~{100*diag.mean():.1f}% test accuracy)\")\n",
    "ax.set_xlabel(\"Predicted\")\n",
    "ax.set_ylabel(\"True\")\n",
    "ax.set_xticks(range(N_CLASSES))\n",
    "ax.set_yticks(range(N_CLASSES))\n",
    "ax.set_xticklabels(range(N_CLASSES))\n",
    "ax.set_yticklabels(range(N_CLASSES))\n",
    "plt.colorbar(im, ax=ax)\n",
    "plt.show()"
   ]
  },
  {
   "cell_type": "code",
   "execution_count": 22,
   "id": "b2147ad0",
   "metadata": {},
   "outputs": [
    {
     "data": {
      "text/plain": [
       "RNN(\n",
       "  (lstm): DynamicQuantizedLSTM(13, 80, batch_first=True, dropout=0.3)\n",
       "  (linear_000): LSD(\n",
       "    (linear): DynamicQuantizedLinear(in_features=80, out_features=10, dtype=torch.qint8, qscheme=torch.per_tensor_affine)\n",
       "    (act): SiLU()\n",
       "    (dropout): Dropout(p=0.3, inplace=False)\n",
       "  )\n",
       ")"
      ]
     },
     "execution_count": 22,
     "metadata": {},
     "output_type": "execute_result"
    }
   ],
   "source": [
    "model_int8"
   ]
  },
  {
   "cell_type": "code",
   "execution_count": 29,
   "id": "089bc67c",
   "metadata": {},
   "outputs": [],
   "source": [
    "# save the model\n",
    "torch.save(model_int8.state_dict(), CHECKPOINT_PATH / EXPERIMENT_NAME / \"rnn_int8.pt\")"
   ]
  },
  {
   "cell_type": "code",
   "execution_count": null,
   "id": "c36b967c",
   "metadata": {},
   "outputs": [
    {
     "name": "stdout",
     "output_type": "stream",
     "text": [
      "F32 Model size: 121.91 KB\n",
      "F32 Model size: 30.48 KB\n"
     ]
    }
   ],
   "source": [
    "n_f32_params = sum(p.numel() for p in rnn.parameters())\n",
    "n_KB_f32 = n_f32_params * 4 / 1024\n",
    "n_KB_i8 = n_f32_params / 1024\n",
    "\n",
    "print(f\"F32 Model size: {n_KB_f32:.2f} KB\")\n",
    "print(f\"F32 Model size: {n_KB_i8:.2f} KB\")"
   ]
  },
  {
   "cell_type": "code",
   "execution_count": null,
   "id": "c516d9ca",
   "metadata": {},
   "outputs": [],
   "source": []
  },
  {
   "cell_type": "code",
   "execution_count": null,
   "id": "b9e4d69c",
   "metadata": {},
   "outputs": [],
   "source": []
  },
  {
   "cell_type": "code",
   "execution_count": null,
   "id": "c8da5dfa",
   "metadata": {},
   "outputs": [],
   "source": []
  }
 ],
 "metadata": {
  "kernelspec": {
   "display_name": ".venv",
   "language": "python",
   "name": "python3"
  },
  "language_info": {
   "codemirror_mode": {
    "name": "ipython",
    "version": 3
   },
   "file_extension": ".py",
   "mimetype": "text/x-python",
   "name": "python",
   "nbconvert_exporter": "python",
   "pygments_lexer": "ipython3",
   "version": "3.12.3"
  }
 },
 "nbformat": 4,
 "nbformat_minor": 5
}
