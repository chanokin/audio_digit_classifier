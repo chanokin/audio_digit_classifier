{
 "cells": [
  {
   "cell_type": "code",
   "execution_count": null,
   "id": "ed7dbeb9",
   "metadata": {},
   "outputs": [],
   "source": [
    "import torch\n",
    "from torchfsdd import TorchFSDDGenerator, TrimSilence\n",
    "from torchaudio.transforms import MFCC, TimeMasking, FrequencyMasking\n",
    "from torchvision.transforms import Compose\n",
    "from torch.utils.data import DataLoader\n",
    "from lightning import Trainer\n",
    "from lightning.pytorch.loggers import MLFlowLogger\n",
    "from lightning.pytorch.callbacks import ModelCheckpoint, LearningRateMonitor, EarlyStopping, RichModelSummary, RichProgressBar\n",
    "from matplotlib import pyplot as plt\n",
    "from pathlib import Path\n",
    "import sys\n",
    "import numpy as np\n",
    "# quick hacky way to get the package visible in the notebook\n",
    "base_path = Path(\".\").resolve().parent\n",
    "sys.path.append(str(base_path ))\n",
    "\n",
    "from sdc.rnn import RNN\n",
    "from sdc.trainer import RNNTrainer\n",
    "USE_GPU = torch.cuda.is_available() and 1\n",
    "N_CLASSES = 10 # 0-9 digits\n",
    "SAMPLING_RATE = 8e3  # 8kHz\n",
    "N_MFCC_CHANNELS = 13  # Number of MFCC channels\n",
    "MAX_EPOCHS = 50\n",
    "DEVICE = torch.device(\"cuda\") if USE_GPU else torch.device(\"cpu\")\n",
    "CHECKPOINT_PATH = Path(\".\") / \"saved_models\"\n",
    "CHECKPOINT_PATH.mkdir(parents=True, exist_ok=True)\n",
    "EXPERIMENT_NAME = \"small_rnn_model\"\n",
    "BATCH_SIZE = 4\n",
    "\n",
    "# torch.set_default_device(DEVICE)\n",
    "# torch.set_default_dtype(torch.float16)\n",
    "torch.set_float32_matmul_precision(\"medium\")\n",
    "# torch.set_float32_matmul_precision(\"high\")\n",
    "\n",
    "\n",
    "# chop off silence from the beginning and end of the audio\n",
    "trimmer = TrimSilence(threshold=1e-6)\n",
    "\n",
    "mfcc = MFCC(sample_rate=SAMPLING_RATE, n_mfcc=N_MFCC_CHANNELS)\n",
    "\n",
    "time_masking = TimeMasking(time_mask_param=2, p=0.3)\n",
    "freq_masking = FrequencyMasking(freq_mask_param=2)\n",
    "freq_masking.p = 0.3\n",
    "\n",
    "# Fetch the latest version of FSDD and initialize a generator with those files\n",
    "fsdd = TorchFSDDGenerator(version='master', transforms=None)\n",
    "\n",
    "# Create three Torch datasets for a train-validation-test split from the generator\n",
    "train_set, val_set, test_set = fsdd.train_val_test_split(test_size=0.15, val_size=0.15)\n",
    "\n"
   ]
  },
  {
   "cell_type": "code",
   "execution_count": null,
   "id": "a1da7ca5",
   "metadata": {},
   "outputs": [],
   "source": []
  },
  {
   "cell_type": "code",
   "execution_count": 2,
   "id": "a2ebe88a",
   "metadata": {},
   "outputs": [],
   "source": [
    "default_root_dir = CHECKPOINT_PATH / EXPERIMENT_NAME\n",
    "default_root_dir.mkdir(parents=True, exist_ok=True)\n"
   ]
  },
  {
   "cell_type": "code",
   "execution_count": 3,
   "id": "ccf0babe",
   "metadata": {},
   "outputs": [],
   "source": [
    "mlf_logger = MLFlowLogger(\n",
    "    experiment_name=EXPERIMENT_NAME,\n",
    "    # tracking_uri=f\"http://localhost:5000\",\n",
    ")"
   ]
  },
  {
   "cell_type": "code",
   "execution_count": 4,
   "id": "2577e55c",
   "metadata": {},
   "outputs": [],
   "source": [
    "# Create a transformation pipeline to apply to the recordings\n",
    "train_transforms = Compose([\n",
    "    trimmer,\n",
    "    mfcc,\n",
    "    time_masking,\n",
    "    freq_masking,\n",
    "])\n",
    "\n",
    "val_transforms = Compose([\n",
    "    trimmer,\n",
    "    mfcc,\n",
    "])\n",
    "\n",
    "train_set.transforms = train_transforms\n",
    "val_set.transforms = val_transforms\n",
    "test_set.transforms = val_transforms"
   ]
  },
  {
   "cell_type": "code",
   "execution_count": 5,
   "id": "71ab88d3",
   "metadata": {},
   "outputs": [],
   "source": [
    "def collate_fn(data):\n",
    "    \"\"\"Batch and pad wakeword data\"\"\"\n",
    "    mfccs = []\n",
    "    labels = []\n",
    "    for d in data:\n",
    "        mfcc, label = d\n",
    "        mfccs.append(mfcc.squeeze(0).transpose(0, 1))\n",
    "        labels.append(label)\n",
    "\n",
    "    # pad mfccs to ensure all tensors are same size in the time dim\n",
    "    mfccs = torch.nn.utils.rnn.pad_sequence(mfccs, batch_first=True)  # batch, seq_len, feature\n",
    "\n",
    "    # print(mfccs.shape)\n",
    "    labels = torch.asarray(labels)\n",
    "    return mfccs, labels\n",
    "\n",
    "train_loader = DataLoader(\n",
    "    train_set,\n",
    "    batch_size=BATCH_SIZE,\n",
    "    shuffle=True,\n",
    "    num_workers=4,\n",
    "    pin_memory=True,\n",
    "    collate_fn=collate_fn,\n",
    ")\n",
    "\n",
    "val_loader = DataLoader(\n",
    "    val_set,\n",
    "    batch_size=BATCH_SIZE,\n",
    "    shuffle=False,\n",
    "    num_workers=4,\n",
    "    pin_memory=True,\n",
    "    collate_fn=collate_fn,\n",
    ")"
   ]
  },
  {
   "cell_type": "code",
   "execution_count": 6,
   "id": "74cf0e0f",
   "metadata": {},
   "outputs": [
    {
     "name": "stderr",
     "output_type": "stream",
     "text": [
      "/home/chanokin/innatera/audio_digit_classifier/.venv/lib/python3.12/site-packages/torch/nn/modules/rnn.py:123: UserWarning: dropout option adds dropout after all but last recurrent layer, so non-zero dropout expects num_layers greater than 1, but got dropout=0.3 and num_layers=1\n",
      "  warnings.warn(\n"
     ]
    },
    {
     "data": {
      "text/plain": [
       "RNN(\n",
       "  (lstm): LSTM(13, 48, batch_first=True, dropout=0.3)\n",
       "  (linear_000): LSD(\n",
       "    (linear): Linear(in_features=48, out_features=10, bias=True)\n",
       "    (act): SiLU()\n",
       "    (dropout): Dropout(p=0.3, inplace=False)\n",
       "  )\n",
       ")"
      ]
     },
     "execution_count": 6,
     "metadata": {},
     "output_type": "execute_result"
    }
   ],
   "source": [
    "rnn = RNN(\n",
    "    lstm_config={\n",
    "        'input_size': N_MFCC_CHANNELS,\n",
    "        'hidden_size': 48,\n",
    "        'num_layers': 1,\n",
    "    },\n",
    "    linear_sizes=[N_CLASSES],\n",
    ")\n",
    "\n",
    "rnn.to(DEVICE)"
   ]
  },
  {
   "cell_type": "code",
   "execution_count": 7,
   "id": "3eb354f7",
   "metadata": {},
   "outputs": [
    {
     "data": {
      "text/plain": [
       "RNNTrainer(\n",
       "  (model): RNN(\n",
       "    (lstm): LSTM(13, 48, batch_first=True, dropout=0.3)\n",
       "    (linear_000): LSD(\n",
       "      (linear): Linear(in_features=48, out_features=10, bias=True)\n",
       "      (act): SiLU()\n",
       "      (dropout): Dropout(p=0.3, inplace=False)\n",
       "    )\n",
       "  )\n",
       "  (loss_fn): CrossEntropyLoss()\n",
       "  (accuracy): MulticlassAccuracy()\n",
       "  (train_accuracy): MulticlassAccuracy()\n",
       ")"
      ]
     },
     "execution_count": 7,
     "metadata": {},
     "output_type": "execute_result"
    }
   ],
   "source": [
    "rnn_trainer = RNNTrainer(\n",
    "    model=rnn,\n",
    "\n",
    ")\n",
    "\n",
    "rnn_trainer.to(DEVICE)"
   ]
  },
  {
   "cell_type": "code",
   "execution_count": 8,
   "id": "445f69ac",
   "metadata": {},
   "outputs": [
    {
     "name": "stderr",
     "output_type": "stream",
     "text": [
      "Trainer already configured with model summary callbacks: [<class 'lightning.pytorch.callbacks.rich_model_summary.RichModelSummary'>]. Skipping setting a default `ModelSummary` callback.\n",
      "GPU available: True (cuda), used: True\n",
      "TPU available: False, using: 0 TPU cores\n",
      "HPU available: False, using: 0 HPUs\n"
     ]
    }
   ],
   "source": [
    "trainer = Trainer(\n",
    "    default_root_dir=default_root_dir,\n",
    "    accelerator=\"cuda\" if USE_GPU else \"cpu\",\n",
    "    # amp_type=\"apex\",\n",
    "    # max_epochs=30 if i == 0 else 10,\n",
    "    max_epochs=MAX_EPOCHS,\n",
    "    # strategy=\"ddp\",\n",
    "    callbacks=[\n",
    "        ModelCheckpoint(),\n",
    "        RichProgressBar(),\n",
    "        LearningRateMonitor(\"epoch\"),\n",
    "        # PlotWeightsOnEpochEndCallback(),\n",
    "        # PlotWeightsOnTrainStartCallback(),\n",
    "        # EarlyStopping(monitor=\"val_acc\", patience=8, mode=\"max\"),\n",
    "        RichModelSummary(max_depth=3),\n",
    "    ],\n",
    "    logger=mlf_logger,\n",
    ")\n"
   ]
  },
  {
   "cell_type": "code",
   "execution_count": 9,
   "id": "fc0b27e3",
   "metadata": {},
   "outputs": [
    {
     "name": "stderr",
     "output_type": "stream",
     "text": [
      "LOCAL_RANK: 0 - CUDA_VISIBLE_DEVICES: [0]\n"
     ]
    },
    {
     "data": {
      "text/html": [
       "<pre style=\"white-space:pre;overflow-x:auto;line-height:normal;font-family:Menlo,'DejaVu Sans Mono',consolas,'Courier New',monospace\">┏━━━┳━━━━━━━━━━━━━━━━━━━━━━━━━━┳━━━━━━━━━━━━━━━━━━━━┳━━━━━━━━┳━━━━━━━┓\n",
       "┃<span style=\"color: #800080; text-decoration-color: #800080; font-weight: bold\">   </span>┃<span style=\"color: #800080; text-decoration-color: #800080; font-weight: bold\"> Name                     </span>┃<span style=\"color: #800080; text-decoration-color: #800080; font-weight: bold\"> Type               </span>┃<span style=\"color: #800080; text-decoration-color: #800080; font-weight: bold\"> Params </span>┃<span style=\"color: #800080; text-decoration-color: #800080; font-weight: bold\"> Mode  </span>┃\n",
       "┡━━━╇━━━━━━━━━━━━━━━━━━━━━━━━━━╇━━━━━━━━━━━━━━━━━━━━╇━━━━━━━━╇━━━━━━━┩\n",
       "│<span style=\"color: #7f7f7f; text-decoration-color: #7f7f7f\"> 0 </span>│ model                    │ RNN                │ 12.6 K │ train │\n",
       "│<span style=\"color: #7f7f7f; text-decoration-color: #7f7f7f\"> 1 </span>│ model.lstm               │ LSTM               │ 12.1 K │ train │\n",
       "│<span style=\"color: #7f7f7f; text-decoration-color: #7f7f7f\"> 2 </span>│ model.linear_000         │ LSD                │    490 │ train │\n",
       "│<span style=\"color: #7f7f7f; text-decoration-color: #7f7f7f\"> 3 </span>│ model.linear_000.linear  │ Linear             │    490 │ train │\n",
       "│<span style=\"color: #7f7f7f; text-decoration-color: #7f7f7f\"> 4 </span>│ model.linear_000.act     │ SiLU               │      0 │ train │\n",
       "│<span style=\"color: #7f7f7f; text-decoration-color: #7f7f7f\"> 5 </span>│ model.linear_000.dropout │ Dropout            │      0 │ train │\n",
       "│<span style=\"color: #7f7f7f; text-decoration-color: #7f7f7f\"> 6 </span>│ loss_fn                  │ CrossEntropyLoss   │      0 │ train │\n",
       "│<span style=\"color: #7f7f7f; text-decoration-color: #7f7f7f\"> 7 </span>│ accuracy                 │ MulticlassAccuracy │      0 │ train │\n",
       "│<span style=\"color: #7f7f7f; text-decoration-color: #7f7f7f\"> 8 </span>│ train_accuracy           │ MulticlassAccuracy │      0 │ train │\n",
       "└───┴──────────────────────────┴────────────────────┴────────┴───────┘\n",
       "</pre>\n"
      ],
      "text/plain": [
       "┏━━━┳━━━━━━━━━━━━━━━━━━━━━━━━━━┳━━━━━━━━━━━━━━━━━━━━┳━━━━━━━━┳━━━━━━━┓\n",
       "┃\u001b[1;35m \u001b[0m\u001b[1;35m \u001b[0m\u001b[1;35m \u001b[0m┃\u001b[1;35m \u001b[0m\u001b[1;35mName                    \u001b[0m\u001b[1;35m \u001b[0m┃\u001b[1;35m \u001b[0m\u001b[1;35mType              \u001b[0m\u001b[1;35m \u001b[0m┃\u001b[1;35m \u001b[0m\u001b[1;35mParams\u001b[0m\u001b[1;35m \u001b[0m┃\u001b[1;35m \u001b[0m\u001b[1;35mMode \u001b[0m\u001b[1;35m \u001b[0m┃\n",
       "┡━━━╇━━━━━━━━━━━━━━━━━━━━━━━━━━╇━━━━━━━━━━━━━━━━━━━━╇━━━━━━━━╇━━━━━━━┩\n",
       "│\u001b[2m \u001b[0m\u001b[2m0\u001b[0m\u001b[2m \u001b[0m│ model                    │ RNN                │ 12.6 K │ train │\n",
       "│\u001b[2m \u001b[0m\u001b[2m1\u001b[0m\u001b[2m \u001b[0m│ model.lstm               │ LSTM               │ 12.1 K │ train │\n",
       "│\u001b[2m \u001b[0m\u001b[2m2\u001b[0m\u001b[2m \u001b[0m│ model.linear_000         │ LSD                │    490 │ train │\n",
       "│\u001b[2m \u001b[0m\u001b[2m3\u001b[0m\u001b[2m \u001b[0m│ model.linear_000.linear  │ Linear             │    490 │ train │\n",
       "│\u001b[2m \u001b[0m\u001b[2m4\u001b[0m\u001b[2m \u001b[0m│ model.linear_000.act     │ SiLU               │      0 │ train │\n",
       "│\u001b[2m \u001b[0m\u001b[2m5\u001b[0m\u001b[2m \u001b[0m│ model.linear_000.dropout │ Dropout            │      0 │ train │\n",
       "│\u001b[2m \u001b[0m\u001b[2m6\u001b[0m\u001b[2m \u001b[0m│ loss_fn                  │ CrossEntropyLoss   │      0 │ train │\n",
       "│\u001b[2m \u001b[0m\u001b[2m7\u001b[0m\u001b[2m \u001b[0m│ accuracy                 │ MulticlassAccuracy │      0 │ train │\n",
       "│\u001b[2m \u001b[0m\u001b[2m8\u001b[0m\u001b[2m \u001b[0m│ train_accuracy           │ MulticlassAccuracy │      0 │ train │\n",
       "└───┴──────────────────────────┴────────────────────┴────────┴───────┘\n"
      ]
     },
     "metadata": {},
     "output_type": "display_data"
    },
    {
     "data": {
      "text/html": [
       "<pre style=\"white-space:pre;overflow-x:auto;line-height:normal;font-family:Menlo,'DejaVu Sans Mono',consolas,'Courier New',monospace\"><span style=\"font-weight: bold\">Trainable params</span>: 12.6 K                                                                                           \n",
       "<span style=\"font-weight: bold\">Non-trainable params</span>: 0                                                                                            \n",
       "<span style=\"font-weight: bold\">Total params</span>: 12.6 K                                                                                               \n",
       "<span style=\"font-weight: bold\">Total estimated model params size (MB)</span>: 0                                                                          \n",
       "<span style=\"font-weight: bold\">Modules in train mode</span>: 9                                                                                           \n",
       "<span style=\"font-weight: bold\">Modules in eval mode</span>: 0                                                                                            \n",
       "</pre>\n"
      ],
      "text/plain": [
       "\u001b[1mTrainable params\u001b[0m: 12.6 K                                                                                           \n",
       "\u001b[1mNon-trainable params\u001b[0m: 0                                                                                            \n",
       "\u001b[1mTotal params\u001b[0m: 12.6 K                                                                                               \n",
       "\u001b[1mTotal estimated model params size (MB)\u001b[0m: 0                                                                          \n",
       "\u001b[1mModules in train mode\u001b[0m: 9                                                                                           \n",
       "\u001b[1mModules in eval mode\u001b[0m: 0                                                                                            \n"
      ]
     },
     "metadata": {},
     "output_type": "display_data"
    },
    {
     "data": {
      "application/vnd.jupyter.widget-view+json": {
       "model_id": "5773695c73a64e80aa793d30681b23a6",
       "version_major": 2,
       "version_minor": 0
      },
      "text/plain": [
       "Output()"
      ]
     },
     "metadata": {},
     "output_type": "display_data"
    },
    {
     "name": "stderr",
     "output_type": "stream",
     "text": [
      "`Trainer.fit` stopped: `max_epochs=50` reached.\n"
     ]
    },
    {
     "data": {
      "text/html": [
       "<pre style=\"white-space:pre;overflow-x:auto;line-height:normal;font-family:Menlo,'DejaVu Sans Mono',consolas,'Courier New',monospace\"></pre>\n"
      ],
      "text/plain": []
     },
     "metadata": {},
     "output_type": "display_data"
    }
   ],
   "source": [
    "trainer.fit(model=rnn_trainer, train_dataloaders=train_loader, val_dataloaders=val_loader)"
   ]
  },
  {
   "cell_type": "code",
   "execution_count": 10,
   "id": "0d748740",
   "metadata": {},
   "outputs": [
    {
     "name": "stdout",
     "output_type": "stream",
     "text": [
      "                             run_id       experiment_id    status  \\\n",
      "0  6ac40e30adfb4e908503de47d336668b  685926483429733056  FINISHED   \n",
      "\n",
      "                                        artifact_uri  \\\n",
      "0  file:///home/chanokin/innatera/audio_digit_cla...   \n",
      "\n",
      "                        start_time                         end_time  \\\n",
      "0 2025-05-03 15:27:44.460000+00:00 2025-05-03 15:38:26.310000+00:00   \n",
      "\n",
      "   metrics.train_acc_step  metrics.val_acc  metrics.lr-Adam  \\\n",
      "0                     1.0         0.947619            0.001   \n",
      "\n",
      "   metrics.train_loss_step  metrics.epoch  metrics.val_loss  \\\n",
      "0                  0.00626           49.0          0.313937   \n",
      "\n",
      "   metrics.train_acc_epoch  metrics.train_loss_epoch tags.mlflow.user  \\\n",
      "0                 0.699537                  0.876346         chanokin   \n",
      "\n",
      "                             tags.mlflow.source.name tags.mlflow.source.type  \\\n",
      "0  /home/chanokin/innatera/audio_digit_classifier...                   LOCAL   \n",
      "\n",
      "   tags.mlflow.runName  \n",
      "0  intelligent-rat-373  \n"
     ]
    }
   ],
   "source": [
    "import mlflow\n",
    "\n",
    "latest = mlflow.search_runs(experiment_names=[EXPERIMENT_NAME], order_by=[\"start_time desc\"], max_results=1, filter_string=\"status='FINISHED'\")\n",
    "\n",
    "print(latest)\n",
    "# run = mlflow.get_run(run_id=\"fafb190425fa4fecb9ea61d292e9609a\")"
   ]
  },
  {
   "cell_type": "code",
   "execution_count": null,
   "id": "c31630bf",
   "metadata": {},
   "outputs": [],
   "source": []
  },
  {
   "cell_type": "code",
   "execution_count": 11,
   "id": "0ab49bd2",
   "metadata": {},
   "outputs": [],
   "source": [
    "from torchmetrics import ConfusionMatrix\n",
    "\n",
    "test_loader = DataLoader(\n",
    "    test_set,\n",
    "    batch_size=1024,\n",
    "    shuffle=False,\n",
    "    num_workers=4,\n",
    "    pin_memory=True,\n",
    "    collate_fn=collate_fn,\n",
    ")\n",
    "\n",
    "\n",
    "confmat = ConfusionMatrix(task=\"multiclass\", normalize='true', num_classes=N_CLASSES, ).to(DEVICE)\n",
    "confmat.reset()\n",
    "\n",
    "\n",
    "rnn.to(DEVICE)\n",
    "rnn.eval()\n",
    "for batch in test_loader:\n",
    "    mfcc, label = batch\n",
    "    mfcc = mfcc.to(DEVICE)\n",
    "    label = label.to(DEVICE)\n",
    "\n",
    "    with torch.no_grad():\n",
    "        pred = rnn(mfcc)\n",
    "\n",
    "    confmat.update(pred, label)\n",
    "\n",
    "\n",
    "matrix = confmat.compute().cpu().numpy()\n",
    "\n"
   ]
  },
  {
   "cell_type": "code",
   "execution_count": 12,
   "id": "48fb9be0",
   "metadata": {},
   "outputs": [
    {
     "name": "stdout",
     "output_type": "stream",
     "text": [
      "[0.97619045 0.85714287 0.97619045 0.95238096 0.88095236 1.\n",
      " 0.64285713 0.97619045 0.7380952  0.88095236]\n"
     ]
    },
    {
     "data": {
      "image/png": "[encoded data removed]",
      "text/plain": [
       "<Figure size 500x500 with 2 Axes>"
      ]
     },
     "metadata": {},
     "output_type": "display_data"
    }
   ],
   "source": [
    "\n",
    "# get main diagonal\n",
    "diag = matrix.diagonal()\n",
    "print(diag)\n",
    "# print(matrix)\n",
    "fig, ax = plt.subplots(figsize=(5, 5))\n",
    "\n",
    "im = ax.imshow(matrix, interpolation='nearest', cmap=plt.cm.Blues, vmin=0, vmax=1)\n",
    "ax.set_title(f\"Confusion Matrix\\n(~{100*diag.mean():.1f}% test accuracy)\")\n",
    "ax.set_xlabel(\"Predicted\")\n",
    "ax.set_ylabel(\"True\")\n",
    "ax.set_xticks(range(N_CLASSES))\n",
    "ax.set_yticks(range(N_CLASSES))\n",
    "ax.set_xticklabels(range(N_CLASSES))\n",
    "ax.set_yticklabels(range(N_CLASSES))\n",
    "plt.colorbar(im, ax=ax)\n",
    "plt.show()"
   ]
  },
  {
   "cell_type": "markdown",
   "id": "3bed3444",
   "metadata": {},
   "source": [
    "## Size/Accuracy stats"
   ]
  },
  {
   "cell_type": "code",
   "execution_count": 27,
   "id": "728026a4",
   "metadata": {},
   "outputs": [],
   "source": [
    "lstm_sizes = [128, 64, 48, 32]\n",
    "params = [74.5, 20.9, 12.6, 6.3]\n",
    "accuracies = {\n",
    "    128: [95.0, 96.4],\n",
    "    64: [92.3, 94.5],\n",
    "    48: [95.0, 88.8],\n",
    "    32: [86.2, 92.3],\n",
    "}\n",
    "\n",
    "avg_acc = [np.array(accuracies[k]) .mean() for k in lstm_sizes]\n"
   ]
  },
  {
   "cell_type": "code",
   "execution_count": 36,
   "id": "089bc67c",
   "metadata": {},
   "outputs": [
    {
     "data": {
      "image/png": "[encoded data removed]",
      "text/plain": [
       "<Figure size 1000x500 with 2 Axes>"
      ]
     },
     "metadata": {},
     "output_type": "display_data"
    }
   ],
   "source": [
    "f, ax = plt.subplots(figsize=(10, 5))\n",
    "ax.plot(lstm_sizes, params, marker='o', label=\"Parameters\")\n",
    "ax.set_xlabel(\"LSTM hidden size\")\n",
    "ax.set_ylabel(\"Parameters (KB)\")\n",
    "ax.set_title(\"LSTM hidden size vs. parameters\")\n",
    "ax.set_xticks(lstm_sizes)\n",
    "ax.set_xticklabels(lstm_sizes)\n",
    "ax.set_yticks(params)\n",
    "ax.set_yticklabels(np.array(params) * 4) # convert to KB\n",
    "ax.legend(loc=\"upper left\", )\n",
    "ax2 = ax.twinx()\n",
    "ax2.plot(lstm_sizes, avg_acc, marker='o', color='orange', label=\"Accuracy\")\n",
    "ax2.set_ylabel(\"Accuracy (%)\")\n",
    "ax2.set_yticks(avg_acc)\n",
    "ax2.set_yticklabels([f\"{a:.1f}\" for a in avg_acc])\n",
    "ax2.legend(loc=\"upper left\", bbox_to_anchor=(0., 0.9))\n",
    "\n",
    "\n",
    "plt.show()\n",
    "# save the model\n"
   ]
  },
  {
   "cell_type": "code",
   "execution_count": null,
   "id": "c36b967c",
   "metadata": {},
   "outputs": [],
   "source": []
  },
  {
   "cell_type": "code",
   "execution_count": null,
   "id": "c516d9ca",
   "metadata": {},
   "outputs": [],
   "source": []
  },
  {
   "cell_type": "code",
   "execution_count": null,
   "id": "b9e4d69c",
   "metadata": {},
   "outputs": [],
   "source": []
  },
  {
   "cell_type": "code",
   "execution_count": null,
   "id": "c8da5dfa",
   "metadata": {},
   "outputs": [],
   "source": []
  }
 ],
 "metadata": {
  "kernelspec": {
   "display_name": ".venv",
   "language": "python",
   "name": "python3"
  },
  "language_info": {
   "codemirror_mode": {
    "name": "ipython",
    "version": 3
   },
   "file_extension": ".py",
   "mimetype": "text/x-python",
   "name": "python",
   "nbconvert_exporter": "python",
   "pygments_lexer": "ipython3",
   "version": "3.12.3"
  }
 },
 "nbformat": 4,
 "nbformat_minor": 5
}
