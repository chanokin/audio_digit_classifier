{
 "cells": [
  {
   "cell_type": "code",
   "execution_count": 1,
   "id": "ed7dbeb9",
   "metadata": {},
   "outputs": [],
   "source": [
    "import torch\n",
    "from torch import quantization\n",
    "from torchfsdd import TorchFSDDGenerator, TrimSilence\n",
    "from torchaudio.transforms import MFCC, TimeMasking, FrequencyMasking\n",
    "from torchvision.transforms import Compose\n",
    "from torch.utils.data import DataLoader\n",
    "from lightning import Trainer\n",
    "from lightning.pytorch.loggers import MLFlowLogger\n",
    "from lightning.pytorch.callbacks import ModelCheckpoint, LearningRateMonitor, EarlyStopping, RichModelSummary, RichProgressBar\n",
    "from matplotlib import pyplot as plt\n",
    "from pathlib import Path\n",
    "import sys\n",
    "import numpy as np\n",
    "\n",
    "import brevitas\n",
    "\n",
    "\n",
    "# quick hacky way to get the package visible in the notebook\n",
    "base_path = Path(\".\").resolve().parent\n",
    "sys.path.append(str(base_path ))\n",
    "\n",
    "from sdc.rnn_brevitas import RNN\n",
    "from sdc.trainer import RNNTrainer\n",
    "\n",
    "USE_GPU = torch.cuda.is_available() and 0\n",
    "N_CLASSES = 10 # 0-9 digits\n",
    "SAMPLING_RATE = 8e3  # 8kHz\n",
    "N_MFCC_CHANNELS = 13  # Number of MFCC channels\n",
    "MAX_EPOCHS = 50\n",
    "DEVICE = torch.device(\"cuda\") if USE_GPU else torch.device(\"cpu\")\n",
    "CHECKPOINT_PATH = Path(\".\") / \"saved_models\"\n",
    "CHECKPOINT_PATH.mkdir(parents=True, exist_ok=True)\n",
    "EXPERIMENT_NAME = \"rnn_model_pot_qat_brevitas\"\n",
    "BATCH_SIZE = 16\n",
    "\n",
    "# torch.set_default_device(DEVICE)\n",
    "# torch.set_default_dtype(torch.float16)\n",
    "torch.set_float32_matmul_precision(\"medium\")\n",
    "# torch.set_float32_matmul_precision(\"high\")\n",
    "\n",
    "\n",
    "# chop off silence from the beginning and end of the audio\n",
    "trimmer = TrimSilence(threshold=1e-6)\n",
    "\n",
    "mfcc = MFCC(sample_rate=SAMPLING_RATE, n_mfcc=N_MFCC_CHANNELS)\n",
    "\n",
    "time_masking = TimeMasking(time_mask_param=2, p=0.3)\n",
    "freq_masking = FrequencyMasking(freq_mask_param=2)\n",
    "freq_masking.p = 0.3\n",
    "\n",
    "# Fetch the latest version of FSDD and initialize a generator with those files\n",
    "fsdd = TorchFSDDGenerator(version='master', transforms=None)\n",
    "\n",
    "# Create three Torch datasets for a train-validation-test split from the generator\n",
    "train_set, val_set, test_set = fsdd.train_val_test_split(test_size=0.15, val_size=0.15)\n",
    "\n"
   ]
  },
  {
   "cell_type": "code",
   "execution_count": null,
   "id": "a1da7ca5",
   "metadata": {},
   "outputs": [],
   "source": []
  },
  {
   "cell_type": "code",
   "execution_count": 2,
   "id": "a2ebe88a",
   "metadata": {},
   "outputs": [],
   "source": [
    "default_root_dir = CHECKPOINT_PATH / EXPERIMENT_NAME\n",
    "default_root_dir.mkdir(parents=True, exist_ok=True)\n"
   ]
  },
  {
   "cell_type": "code",
   "execution_count": 3,
   "id": "ccf0babe",
   "metadata": {},
   "outputs": [],
   "source": [
    "mlf_logger = MLFlowLogger(\n",
    "    experiment_name=EXPERIMENT_NAME,\n",
    "    # tracking_uri=f\"http://localhost:5000\",\n",
    ")"
   ]
  },
  {
   "cell_type": "code",
   "execution_count": 4,
   "id": "2577e55c",
   "metadata": {},
   "outputs": [],
   "source": [
    "# Create a transformation pipeline to apply to the recordings\n",
    "train_transforms = Compose([\n",
    "    trimmer,\n",
    "    mfcc,\n",
    "    time_masking,\n",
    "    freq_masking,\n",
    "])\n",
    "\n",
    "val_transforms = Compose([\n",
    "    trimmer,\n",
    "    mfcc,\n",
    "])\n",
    "\n",
    "train_set.transforms = train_transforms\n",
    "val_set.transforms = val_transforms\n",
    "test_set.transforms = val_transforms"
   ]
  },
  {
   "cell_type": "code",
   "execution_count": 5,
   "id": "71ab88d3",
   "metadata": {},
   "outputs": [],
   "source": [
    "def collate_fn(data):\n",
    "    \"\"\"Batch and pad wakeword data\"\"\"\n",
    "    mfccs = []\n",
    "    labels = []\n",
    "    for d in data:\n",
    "        mfcc, label = d\n",
    "        mfccs.append(mfcc.squeeze(0).transpose(0, 1))\n",
    "        labels.append(label)\n",
    "\n",
    "    # pad mfccs to ensure all tensors are same size in the time dim\n",
    "    mfccs = torch.nn.utils.rnn.pad_sequence(mfccs, batch_first=True)  # batch, seq_len, feature\n",
    "\n",
    "    # print(mfccs.shape)\n",
    "    labels = torch.asarray(labels)\n",
    "    return mfccs, labels\n",
    "\n",
    "train_loader = DataLoader(\n",
    "    train_set,\n",
    "    batch_size=BATCH_SIZE,\n",
    "    shuffle=True,\n",
    "    num_workers=4,\n",
    "    pin_memory=True,\n",
    "    collate_fn=collate_fn,\n",
    ")\n",
    "\n",
    "val_loader = DataLoader(\n",
    "    val_set,\n",
    "    batch_size=BATCH_SIZE,\n",
    "    shuffle=False,\n",
    "    num_workers=4,\n",
    "    pin_memory=True,\n",
    "    collate_fn=collate_fn,\n",
    ")"
   ]
  },
  {
   "cell_type": "code",
   "execution_count": 6,
   "id": "74cf0e0f",
   "metadata": {},
   "outputs": [],
   "source": [
    "rnn = RNN(\n",
    "    lstm_config={\n",
    "        'input_size': N_MFCC_CHANNELS,\n",
    "        'hidden_size': 72,\n",
    "        'num_layers': 1,\n",
    "    },\n",
    "    linear_sizes=[N_CLASSES],\n",
    ").to(DEVICE)\n",
    "# rnn"
   ]
  },
  {
   "cell_type": "code",
   "execution_count": 7,
   "id": "3eb354f7",
   "metadata": {},
   "outputs": [],
   "source": [
    "rnn_trainer = RNNTrainer(\n",
    "    model=rnn,\n",
    "\n",
    ").to(DEVICE)\n"
   ]
  },
  {
   "cell_type": "code",
   "execution_count": 8,
   "id": "445f69ac",
   "metadata": {},
   "outputs": [
    {
     "name": "stderr",
     "output_type": "stream",
     "text": [
      "GPU available: True (cuda), used: False\n",
      "TPU available: False, using: 0 TPU cores\n",
      "HPU available: False, using: 0 HPUs\n",
      "/home/chanokin/innatera/audio_digit_classifier/.venv/lib/python3.12/site-packages/lightning/pytorch/trainer/setup.py:177: GPU available but not used. You can set it by doing `Trainer(accelerator='gpu')`.\n"
     ]
    }
   ],
   "source": [
    "trainer = Trainer(\n",
    "    default_root_dir=default_root_dir,\n",
    "    accelerator=\"cuda\" if USE_GPU else \"cpu\",\n",
    "    # amp_type=\"apex\",\n",
    "    # max_epochs=30 if i == 0 else 10,\n",
    "    max_epochs=MAX_EPOCHS,\n",
    "    # strategy=\"ddp\",\n",
    "    callbacks=[\n",
    "        ModelCheckpoint(),\n",
    "        # RichProgressBar(),\n",
    "        LearningRateMonitor(\"epoch\"),\n",
    "        # PlotWeightsOnEpochEndCallback(),\n",
    "        # PlotWeightsOnTrainStartCallback(),\n",
    "        # EarlyStopping(monitor=\"val_acc\", patience=10, mode=\"max\"),\n",
    "        # RichModelSummary(max_depth=2),\n",
    "    ],\n",
    "    logger=mlf_logger,\n",
    ")\n"
   ]
  },
  {
   "cell_type": "code",
   "execution_count": 13,
   "id": "fc0b27e3",
   "metadata": {},
   "outputs": [
    {
     "name": "stdout",
     "output_type": "stream",
     "text": [
      "run_id                                       89fe2862adfe42dda43c1b688896a6a3\n",
      "experiment_id                                              543185090237708600\n",
      "status                                                               FINISHED\n",
      "artifact_uri                file:///home/chanokin/innatera/audio_digit_cla...\n",
      "start_time                                   2025-05-06 09:28:10.912000+00:00\n",
      "end_time                                     2025-05-06 09:29:18.092000+00:00\n",
      "metrics.train_loss_step                                              1.003459\n",
      "metrics.train_loss_epoch                                             1.199999\n",
      "metrics.train_acc_step                                                  0.625\n",
      "metrics.val_acc                                                      0.830952\n",
      "metrics.lr-Adam                                                         0.001\n",
      "metrics.train_acc_epoch                                              0.606481\n",
      "metrics.val_loss                                                     0.712034\n",
      "metrics.epoch                                                             0.0\n",
      "tags.mlflow.user                                                     chanokin\n",
      "tags.mlflow.source.type                                                 LOCAL\n",
      "tags.mlflow.runName                                           gifted-bass-702\n",
      "tags.mlflow.source.name     /home/chanokin/innatera/audio_digit_classifier...\n",
      "Name: 0, dtype: object\n",
      "Found previous run with id 89fe2862adfe42dda43c1b688896a6a3\n",
      "Found previous experiment with id 543185090237708600\n",
      "Latest accuracy: 0.8309524059295654\n",
      "Latest checkpoint: mlruns/543185090237708600/89fe2862adfe42dda43c1b688896a6a3/checkpoints/epoch=0-step=135.ckpt\n",
      "<class 'dict'> dict_keys(['epoch', 'global_step', 'pytorch-lightning_version', 'state_dict', 'loops', 'callbacks', 'optimizer_states', 'lr_schedulers'])\n"
     ]
    }
   ],
   "source": [
    "import mlflow\n",
    "\n",
    "latest = mlflow.search_runs(experiment_names=[EXPERIMENT_NAME], order_by=[\"start_time desc\"], max_results=1, filter_string=\"status='FINISHED'\")\n",
    "\n",
    "retrain = True\n",
    "if len(latest) > 0 and 1:\n",
    "    zero = latest.iloc[0]\n",
    "    print(zero)\n",
    "    run_id = zero.run_id\n",
    "    print(f\"Found previous run with id {run_id}\")\n",
    "    exp_id = zero.experiment_id\n",
    "    print(f\"Found previous experiment with id {exp_id}\")\n",
    "    latest_accuracy = zero[\"metrics.val_acc\"]\n",
    "    print(f\"Latest accuracy: {latest_accuracy}\")\n",
    "    retrain = latest_accuracy < 0.8\n",
    "    # retrain = False\n",
    "\n",
    "    latest_checkpoint_path = Path(\".\") / \"mlruns\" / exp_id / run_id / \"checkpoints\"\n",
    "    latest_checkpoint = latest_checkpoint_path.glob(\"*.ckpt\")\n",
    "    latest_checkpoint = sorted(latest_checkpoint, key=lambda x: x.stat().st_mtime)[-1]\n",
    "    print(f\"Latest checkpoint: {latest_checkpoint}\")\n",
    "    model = torch.load(latest_checkpoint)\n",
    "    print(type(model), model.keys())\n",
    "    rnn.load_state_dict({x.replace(\"model.\", \"\"): v for x, v in model[\"state_dict\"].items()})\n",
    "    # rnn_trainer.model = rnn\n",
    "    # rnn_trainer.to(DEVICE)\n",
    "\n"
   ]
  },
  {
   "cell_type": "code",
   "execution_count": 14,
   "id": "c86d839c",
   "metadata": {},
   "outputs": [],
   "source": [
    "import time\n",
    "import netron\n",
    "from IPython.display import IFrame\n",
    "\n",
    "\n",
    "if retrain:\n",
    "    trainer.fit(model=rnn_trainer, train_dataloaders=train_loader, val_dataloaders=val_loader)\n",
    "\n",
    "\n",
    "\n",
    "\n",
    "torch.save(rnn.state_dict(), CHECKPOINT_PATH / EXPERIMENT_NAME / f\"model_{EXPERIMENT_NAME}.pt\")\n",
    "\n"
   ]
  },
  {
   "cell_type": "code",
   "execution_count": 15,
   "id": "638e75f4",
   "metadata": {},
   "outputs": [
    {
     "name": "stderr",
     "output_type": "stream",
     "text": [
      "/home/chanokin/innatera/audio_digit_classifier/.venv/lib/python3.12/site-packages/torch/_tensor.py:1644: UserWarning: Named tensors and all their associated APIs are an experimental feature and subject to change. Please do not use them for anything important until they are released as stable. (Triggered internally at /pytorch/c10/core/TensorImpl.h:1935.)\n",
      "  return super().rename(names)\n",
      "/home/chanokin/innatera/audio_digit_classifier/.venv/lib/python3.12/site-packages/brevitas/nn/quant_linear.py:69: UserWarning: Defining your `__torch_function__` as a plain method is deprecated and will be an error in future, please define it as a classmethod. (Triggered internally at /pytorch/torch/csrc/utils/python_arg_parser.cpp:338.)\n",
      "  output_tensor = linear(x, quant_weight, quant_bias)\n",
      "/home/chanokin/innatera/audio_digit_classifier/.venv/lib/python3.12/site-packages/brevitas/export/common/handler/qcdq.py:57: TracerWarning: Converting a tensor to a Python boolean might cause the trace to be incorrect. We can't record the data flow of Python values, so this value will be treated as a constant in the future. This means that the trace might not generalize to other inputs!\n",
      "  assert bools\n",
      "/home/chanokin/innatera/audio_digit_classifier/.venv/lib/python3.12/site-packages/brevitas/quant_tensor/int_quant_tensor.py:32: TracerWarning: torch.tensor results are registered as constants in the trace. You can safely ignore this warning if you use this function to create tensors out of constant variables that would be the same every time you call this function. In any other case, this might cause the trace to be incorrect.\n",
      "  signed = torch.tensor(signed, dtype=torch.bool)\n",
      "/home/chanokin/innatera/audio_digit_classifier/.venv/lib/python3.12/site-packages/brevitas/quant_tensor/int_quant_tensor.py:34: TracerWarning: torch.tensor results are registered as constants in the trace. You can safely ignore this warning if you use this function to create tensors out of constant variables that would be the same every time you call this function. In any other case, this might cause the trace to be incorrect.\n",
      "  training = torch.tensor(training, dtype=torch.bool)\n",
      "/home/chanokin/innatera/audio_digit_classifier/.venv/lib/python3.12/site-packages/brevitas/export/common/handler/base.py:38: TracerWarning: Converting a tensor to a Python boolean might cause the trace to be incorrect. We can't record the data flow of Python values, so this value will be treated as a constant in the future. This means that the trace might not generalize to other inputs!\n",
      "  if s != 1:\n",
      "/home/chanokin/innatera/audio_digit_classifier/.venv/lib/python3.12/site-packages/brevitas/export/common/__init__.py:6: TracerWarning: Converting a tensor to a Python boolean might cause the trace to be incorrect. We can't record the data flow of Python values, so this value will be treated as a constant in the future. This means that the trace might not generalize to other inputs!\n",
      "  if tensor is not None and len(tensor.shape) == 1 and tensor.shape[0] == 1:\n",
      "/home/chanokin/innatera/audio_digit_classifier/.venv/lib/python3.12/site-packages/brevitas/export/common/handler/base.py:154: TracerWarning: Converting a tensor to a Python boolean might cause the trace to be incorrect. We can't record the data flow of Python values, so this value will be treated as a constant in the future. This means that the trace might not generalize to other inputs!\n",
      "  if bit_width <= 8:\n",
      "/home/chanokin/innatera/audio_digit_classifier/.venv/lib/python3.12/site-packages/brevitas/nn/mixin/base.py:185: TracerWarning: Converting a tensor to a Python integer might cause the trace to be incorrect. We can't record the data flow of Python values, so this value will be treated as a constant in the future. This means that the trace might not generalize to other inputs!\n",
      "  int(batch_size), self.hidden_size, dtype=inp.dtype, device=inp.device)\n"
     ]
    }
   ],
   "source": [
    "# from brevitas.export import export_qonnx as exporter\n",
    "from brevitas.export import export_torch_qcdq as exporter\n",
    "inp = torch.randn(BATCH_SIZE, 10, N_MFCC_CHANNELS).to(DEVICE)\n",
    "exported_model = exporter(rnn,\n",
    "                          args=inp,\n",
    "                          export_path=CHECKPOINT_PATH / EXPERIMENT_NAME / f\"model_{EXPERIMENT_NAME}_qcdq.onnx\",\n",
    "                        #   opset_version=13,\n",
    "                  )\n",
    "\n"
   ]
  },
  {
   "cell_type": "code",
   "execution_count": null,
   "id": "c3147746",
   "metadata": {},
   "outputs": [],
   "source": []
  },
  {
   "cell_type": "code",
   "execution_count": 16,
   "id": "c31630bf",
   "metadata": {},
   "outputs": [],
   "source": [
    "# rnn"
   ]
  },
  {
   "cell_type": "code",
   "execution_count": 17,
   "id": "7a8456ae",
   "metadata": {},
   "outputs": [
    {
     "name": "stdout",
     "output_type": "stream",
     "text": [
      "Total number of parameters: 25511\n",
      "Total number of parameters: 24.91 KB\n"
     ]
    }
   ],
   "source": [
    "n_params = 0\n",
    "for name, x in rnn.state_dict().items():\n",
    "    # print(name, x.shape, x.dtype)\n",
    "    n_params += x.numel()\n",
    "print(f\"Total number of parameters: {n_params}\")\n",
    "n_params_kb = n_params / 1024\n",
    "print(f\"Total number of parameters: {n_params_kb:.2f} KB\")\n",
    "\n",
    "    # if x.dim() == 2:\n",
    "    #     plt.imshow(x.detach().cpu().numpy(), cmap=\"gray\")\n",
    "    #     plt.colorbar()\n",
    "    #     plt.show()\n",
    "    # elif x.dim() == 1:\n",
    "    #     plt.plot(x.detach().cpu().numpy())\n",
    "    #     plt.show()\n",
    "    # else:\n",
    "    #     print(\"Not plotting\", x.shape)"
   ]
  },
  {
   "cell_type": "code",
   "execution_count": 53,
   "id": "37adc3bb",
   "metadata": {},
   "outputs": [
    {
     "name": "stdout",
     "output_type": "stream",
     "text": [
      "Scale: 0.015625, Zero point: 0.0, Bit width: 8.0\n",
      "tensor(0.0099, grad_fn=<UnbindBackward0>)\n"
     ]
    }
   ],
   "source": [
    "scale = rnn.linear_000.linear.weight_quant.scale()\n",
    "zero_point = rnn.linear_000.linear.weight_quant.zero_point()\n",
    "bit_width = rnn.linear_000.linear.weight_quant.bit_width()\n",
    "print(f\"Scale: {scale}, Zero point: {zero_point}, Bit width: {bit_width}\")\n",
    "# dir(rnn.linear_000.linear.weight_quant)\n",
    "# convert to int8\n",
    "# int8_weight = rnn.linear_000.linear.weight_quant.quantize(rnn.linear_000.linear.weight)\n",
    "for x in rnn.linear_000.linear.weight_quant.parameters():\n",
    "    for y in x:\n",
    "        for z in y:\n",
    "            print(z)\n",
    "            break\n",
    "        break\n",
    "    break\n"
   ]
  },
  {
   "cell_type": "code",
   "execution_count": 22,
   "id": "2cc5d0b6",
   "metadata": {},
   "outputs": [
    {
     "data": {
      "image/png": "[encoded data removed]",
      "text/plain": [
       "<Figure size 2000x500 with 1 Axes>"
      ]
     },
     "metadata": {},
     "output_type": "display_data"
    },
    {
     "data": {
      "image/png": "[encoded data removed]",
      "text/plain": [
       "<Figure size 1000x500 with 2 Axes>"
      ]
     },
     "metadata": {},
     "output_type": "display_data"
    },
    {
     "data": {
      "image/png": "[encoded data removed]",
      "text/plain": [
       "<Figure size 1000x500 with 1 Axes>"
      ]
     },
     "metadata": {},
     "output_type": "display_data"
    }
   ],
   "source": [
    "weights = rnn.linear_000.linear.weight.detach().cpu().numpy()\n",
    "f, ax = plt.subplots(1, 1, figsize=(20, 5))\n",
    "ax.hist(weights.flatten(), bins=512)\n",
    "ax.set_title(\"Weights histogram\")\n",
    "ax.set_xlabel(\"Weight value\")\n",
    "ax.set_ylabel(\"Count\")\n",
    "\n",
    "f, ax = plt.subplots(1, 1, figsize=(10, 5))\n",
    "im = ax.imshow(weights, cmap=\"rainbow\", aspect=\"auto\")\n",
    "plt.colorbar(im, ax=ax)\n",
    "ax.set_title(\"Weights\")\n",
    "\n",
    "unique = np.unique(weights)\n",
    "unique.sort()\n",
    "f, ax = plt.subplots(1, 1, figsize=(10, 5))\n",
    "ax.plot(unique)\n",
    "ax.set_title(\"Unique weights\")\n",
    "plt.show()"
   ]
  },
  {
   "cell_type": "code",
   "execution_count": null,
   "id": "aab0d824",
   "metadata": {},
   "outputs": [
    {
     "name": "stdout",
     "output_type": "stream",
     "text": [
      "1.272857427597046\n",
      "-6.6519294\n"
     ]
    }
   ],
   "source": [
    "for x in weights.flatten():\n",
    "    print(2**(7) * x)\n",
    "    print(np.log2(x))\n",
    "    break"
   ]
  },
  {
   "cell_type": "code",
   "execution_count": null,
   "id": "0ab49bd2",
   "metadata": {},
   "outputs": [],
   "source": [
    "from torchmetrics import ConfusionMatrix\n",
    "\n",
    "test_loader = DataLoader(\n",
    "    test_set,\n",
    "    batch_size=BATCH_SIZE,\n",
    "    shuffle=False,\n",
    "    num_workers=4,\n",
    "    pin_memory=True,\n",
    "    collate_fn=collate_fn,\n",
    ")\n",
    "\n",
    "\n",
    "confmat = ConfusionMatrix(task=\"multiclass\", normalize='true', num_classes=N_CLASSES, ).to(DEVICE)\n",
    "confmat.reset()\n",
    "\n",
    "\n",
    "# rnn.to(DEVICE)\n",
    "# rnn.eval()\n",
    "for batch in test_loader:\n",
    "    mfcc, label = batch\n",
    "    # print(mfcc.dtype)\n",
    "    # mfcc = mfcc.to(torch.device(\"cpu\"))\n",
    "    # label = label.to(DEVICE)\n",
    "\n",
    "    with torch.no_grad():\n",
    "        pred = rnn(mfcc)\n",
    "\n",
    "    confmat.update(pred, label)\n",
    "\n",
    "\n",
    "matrix = confmat.compute().cpu().numpy()\n",
    "\n"
   ]
  },
  {
   "cell_type": "code",
   "execution_count": null,
   "id": "48fb9be0",
   "metadata": {},
   "outputs": [
    {
     "name": "stdout",
     "output_type": "stream",
     "text": [
      "[0.78571427 0.5952381  0.54761904 0.54761904 0.54761904 0.52380955\n",
      " 0.5952381  0.85714287 0.5        0.5952381 ]\n"
     ]
    },
    {
     "data": {
      "image/png": "[encoded data removed]",
      "text/plain": [
       "<Figure size 500x500 with 2 Axes>"
      ]
     },
     "metadata": {},
     "output_type": "display_data"
    }
   ],
   "source": [
    "\n",
    "# get main diagonal\n",
    "diag = matrix.diagonal()\n",
    "print(diag)\n",
    "# print(matrix)\n",
    "fig, ax = plt.subplots(figsize=(5, 5))\n",
    "\n",
    "im = ax.imshow(matrix, interpolation='nearest', cmap=plt.cm.Blues, vmin=0, vmax=1)\n",
    "ax.set_title(f\"Confusion Matrix\\n(~{100*diag.mean():.1f}% test accuracy)\")\n",
    "ax.set_xlabel(\"Predicted\")\n",
    "ax.set_ylabel(\"True\")\n",
    "ax.set_xticks(range(N_CLASSES))\n",
    "ax.set_yticks(range(N_CLASSES))\n",
    "ax.set_xticklabels(range(N_CLASSES))\n",
    "ax.set_yticklabels(range(N_CLASSES))\n",
    "plt.colorbar(im, ax=ax)\n",
    "plt.show()"
   ]
  },
  {
   "cell_type": "code",
   "execution_count": null,
   "id": "c516d9ca",
   "metadata": {},
   "outputs": [],
   "source": []
  },
  {
   "cell_type": "code",
   "execution_count": null,
   "id": "b9e4d69c",
   "metadata": {},
   "outputs": [],
   "source": []
  },
  {
   "cell_type": "code",
   "execution_count": null,
   "id": "c8da5dfa",
   "metadata": {},
   "outputs": [],
   "source": []
  }
 ],
 "metadata": {
  "kernelspec": {
   "display_name": ".venv",
   "language": "python",
   "name": "python3"
  },
  "language_info": {
   "codemirror_mode": {
    "name": "ipython",
    "version": 3
   },
   "file_extension": ".py",
   "mimetype": "text/x-python",
   "name": "python",
   "nbconvert_exporter": "python",
   "pygments_lexer": "ipython3",
   "version": "3.12.3"
  }
 },
 "nbformat": 4,
 "nbformat_minor": 5
}
