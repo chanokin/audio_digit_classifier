{
 "cells": [
  {
   "cell_type": "code",
   "execution_count": 1,
   "id": "ed7dbeb9",
   "metadata": {},
   "outputs": [],
   "source": [
    "import torch\n",
    "from torchfsdd import TorchFSDDGenerator, TrimSilence\n",
    "from torchaudio.transforms import MFCC, TimeMasking, FrequencyMasking\n",
    "from torchvision.transforms import Compose\n",
    "from torch.utils.data import DataLoader\n",
    "from lightning import Trainer\n",
    "from lightning.pytorch.loggers import MLFlowLogger\n",
    "from lightning.pytorch.callbacks import ModelCheckpoint, LearningRateMonitor, EarlyStopping, RichModelSummary, RichProgressBar\n",
    "from matplotlib import pyplot as plt\n",
    "from pathlib import Path\n",
    "import sys\n",
    "import numpy as np\n",
    "# quick hacky way to get the package visible in the notebook\n",
    "base_path = Path(\".\").resolve().parent\n",
    "sys.path.append(str(base_path ))\n",
    "\n",
    "from sdc.rnn import RNN\n",
    "from sdc.trainer import RNNTrainer\n",
    "USE_GPU = torch.cuda.is_available() and 0\n",
    "N_CLASSES = 10 # 0-9 digits\n",
    "SAMPLING_RATE = 8e3  # 8kHz\n",
    "N_MFCC_CHANNELS = 13  # Number of MFCC channels\n",
    "MAX_EPOCHS = 50\n",
    "DEVICE = torch.device(\"cuda\") if USE_GPU else torch.device(\"cpu\")\n",
    "CHECKPOINT_PATH = Path(\".\") / \"saved_models\"\n",
    "CHECKPOINT_PATH.mkdir(parents=True, exist_ok=True)\n",
    "EXPERIMENT_NAME = \"rnn_model_ptq\"\n",
    "BATCH_SIZE = 4\n",
    "\n",
    "# torch.set_default_device(DEVICE)\n",
    "# torch.set_default_dtype(torch.float16)\n",
    "torch.set_float32_matmul_precision(\"medium\")\n",
    "# torch.set_float32_matmul_precision(\"high\")\n",
    "\n",
    "\n",
    "# chop off silence from the beginning and end of the audio\n",
    "trimmer = TrimSilence(threshold=1e-6)\n",
    "\n",
    "mfcc = MFCC(sample_rate=SAMPLING_RATE, n_mfcc=N_MFCC_CHANNELS)\n",
    "\n",
    "time_masking = TimeMasking(time_mask_param=2, p=0.3)\n",
    "freq_masking = FrequencyMasking(freq_mask_param=2)\n",
    "freq_masking.p = 0.3\n",
    "\n",
    "# Fetch the latest version of FSDD and initialize a generator with those files\n",
    "fsdd = TorchFSDDGenerator(version='master', transforms=None)\n",
    "\n",
    "# Create three Torch datasets for a train-validation-test split from the generator\n",
    "train_set, val_set, test_set = fsdd.train_val_test_split(test_size=0.15, val_size=0.15)\n",
    "\n"
   ]
  },
  {
   "cell_type": "code",
   "execution_count": null,
   "id": "a1da7ca5",
   "metadata": {},
   "outputs": [],
   "source": []
  },
  {
   "cell_type": "code",
   "execution_count": 2,
   "id": "a2ebe88a",
   "metadata": {},
   "outputs": [],
   "source": [
    "default_root_dir = CHECKPOINT_PATH / EXPERIMENT_NAME\n",
    "default_root_dir.mkdir(parents=True, exist_ok=True)\n"
   ]
  },
  {
   "cell_type": "code",
   "execution_count": 3,
   "id": "ccf0babe",
   "metadata": {},
   "outputs": [],
   "source": [
    "mlf_logger = MLFlowLogger(\n",
    "    experiment_name=EXPERIMENT_NAME,\n",
    "    # tracking_uri=f\"http://localhost:5000\",\n",
    ")"
   ]
  },
  {
   "cell_type": "code",
   "execution_count": 4,
   "id": "2577e55c",
   "metadata": {},
   "outputs": [],
   "source": [
    "# Create a transformation pipeline to apply to the recordings\n",
    "train_transforms = Compose([\n",
    "    trimmer,\n",
    "    mfcc,\n",
    "    time_masking,\n",
    "    freq_masking,\n",
    "])\n",
    "\n",
    "val_transforms = Compose([\n",
    "    trimmer,\n",
    "    mfcc,\n",
    "])\n",
    "\n",
    "train_set.transforms = train_transforms\n",
    "val_set.transforms = val_transforms\n",
    "test_set.transforms = val_transforms"
   ]
  },
  {
   "cell_type": "code",
   "execution_count": 5,
   "id": "71ab88d3",
   "metadata": {},
   "outputs": [],
   "source": [
    "def collate_fn(data):\n",
    "    \"\"\"Batch and pad wakeword data\"\"\"\n",
    "    mfccs = []\n",
    "    labels = []\n",
    "    for d in data:\n",
    "        mfcc, label = d\n",
    "        mfccs.append(mfcc.squeeze(0).transpose(0, 1))\n",
    "        labels.append(label)\n",
    "\n",
    "    # pad mfccs to ensure all tensors are same size in the time dim\n",
    "    mfccs = torch.nn.utils.rnn.pad_sequence(mfccs, batch_first=True)  # batch, seq_len, feature\n",
    "\n",
    "    # print(mfccs.shape)\n",
    "    labels = torch.asarray(labels)\n",
    "    return mfccs, labels\n",
    "\n",
    "train_loader = DataLoader(\n",
    "    train_set,\n",
    "    batch_size=BATCH_SIZE,\n",
    "    shuffle=True,\n",
    "    num_workers=4,\n",
    "    pin_memory=True,\n",
    "    collate_fn=collate_fn,\n",
    ")\n",
    "\n",
    "val_loader = DataLoader(\n",
    "    val_set,\n",
    "    batch_size=BATCH_SIZE,\n",
    "    shuffle=False,\n",
    "    num_workers=4,\n",
    "    pin_memory=True,\n",
    "    collate_fn=collate_fn,\n",
    ")"
   ]
  },
  {
   "cell_type": "code",
   "execution_count": 6,
   "id": "74cf0e0f",
   "metadata": {},
   "outputs": [
    {
     "name": "stderr",
     "output_type": "stream",
     "text": [
      "/home/chanokin/innatera/audio_digit_classifier/.venv/lib/python3.12/site-packages/torch/nn/modules/rnn.py:123: UserWarning: dropout option adds dropout after all but last recurrent layer, so non-zero dropout expects num_layers greater than 1, but got dropout=0.3 and num_layers=1\n",
      "  warnings.warn(\n"
     ]
    },
    {
     "data": {
      "text/plain": [
       "RNN(\n",
       "  (lstm): LSTM(13, 80, batch_first=True, dropout=0.3)\n",
       "  (linear_000): LSD(\n",
       "    (linear): Linear(in_features=80, out_features=10, bias=True)\n",
       "    (act): SiLU()\n",
       "    (dropout): Dropout(p=0.0, inplace=False)\n",
       "  )\n",
       ")"
      ]
     },
     "execution_count": 6,
     "metadata": {},
     "output_type": "execute_result"
    }
   ],
   "source": [
    "rnn = RNN(\n",
    "    lstm_config={\n",
    "        'input_size': N_MFCC_CHANNELS,\n",
    "        'hidden_size': 80,\n",
    "        'num_layers': 1,\n",
    "    },\n",
    "    linear_sizes=[N_CLASSES],\n",
    ")\n",
    "\n",
    "rnn.to(DEVICE)"
   ]
  },
  {
   "cell_type": "code",
   "execution_count": 7,
   "id": "3eb354f7",
   "metadata": {},
   "outputs": [
    {
     "data": {
      "text/plain": [
       "RNNTrainer(\n",
       "  (model): RNN(\n",
       "    (lstm): LSTM(13, 80, batch_first=True, dropout=0.3)\n",
       "    (linear_000): LSD(\n",
       "      (linear): Linear(in_features=80, out_features=10, bias=True)\n",
       "      (act): SiLU()\n",
       "      (dropout): Dropout(p=0.0, inplace=False)\n",
       "    )\n",
       "  )\n",
       "  (loss_fn): CrossEntropyLoss()\n",
       "  (accuracy): MulticlassAccuracy()\n",
       "  (train_accuracy): MulticlassAccuracy()\n",
       ")"
      ]
     },
     "execution_count": 7,
     "metadata": {},
     "output_type": "execute_result"
    }
   ],
   "source": [
    "rnn_trainer = RNNTrainer(\n",
    "    model=rnn,\n",
    "\n",
    ")\n",
    "\n",
    "rnn_trainer.to(DEVICE)"
   ]
  },
  {
   "cell_type": "code",
   "execution_count": 8,
   "id": "445f69ac",
   "metadata": {},
   "outputs": [
    {
     "name": "stderr",
     "output_type": "stream",
     "text": [
      "Trainer already configured with model summary callbacks: [<class 'lightning.pytorch.callbacks.rich_model_summary.RichModelSummary'>]. Skipping setting a default `ModelSummary` callback.\n",
      "GPU available: True (cuda), used: False\n",
      "TPU available: False, using: 0 TPU cores\n",
      "HPU available: False, using: 0 HPUs\n",
      "/home/chanokin/innatera/audio_digit_classifier/.venv/lib/python3.12/site-packages/lightning/pytorch/trainer/setup.py:177: GPU available but not used. You can set it by doing `Trainer(accelerator='gpu')`.\n"
     ]
    }
   ],
   "source": [
    "trainer = Trainer(\n",
    "    default_root_dir=default_root_dir,\n",
    "    accelerator=\"cuda\" if USE_GPU else \"cpu\",\n",
    "    # amp_type=\"apex\",\n",
    "    # max_epochs=30 if i == 0 else 10,\n",
    "    max_epochs=MAX_EPOCHS,\n",
    "    # strategy=\"ddp\",\n",
    "    callbacks=[\n",
    "        ModelCheckpoint(),\n",
    "        RichProgressBar(),\n",
    "        LearningRateMonitor(\"epoch\"),\n",
    "        # PlotWeightsOnEpochEndCallback(),\n",
    "        # PlotWeightsOnTrainStartCallback(),\n",
    "        # EarlyStopping(monitor=\"val_acc\", patience=10, mode=\"max\"),\n",
    "        RichModelSummary(max_depth=3),\n",
    "    ],\n",
    "    logger=mlf_logger,\n",
    ")\n"
   ]
  },
  {
   "cell_type": "code",
   "execution_count": 9,
   "id": "fc0b27e3",
   "metadata": {},
   "outputs": [
    {
     "name": "stdout",
     "output_type": "stream",
     "text": [
      "Retraining model\n"
     ]
    },
    {
     "data": {
      "text/html": [
       "<pre style=\"white-space:pre;overflow-x:auto;line-height:normal;font-family:Menlo,'DejaVu Sans Mono',consolas,'Courier New',monospace\">┏━━━┳━━━━━━━━━━━━━━━━━━━━━━━━━━┳━━━━━━━━━━━━━━━━━━━━┳━━━━━━━━┳━━━━━━━┓\n",
       "┃<span style=\"color: #800080; text-decoration-color: #800080; font-weight: bold\">   </span>┃<span style=\"color: #800080; text-decoration-color: #800080; font-weight: bold\"> Name                     </span>┃<span style=\"color: #800080; text-decoration-color: #800080; font-weight: bold\"> Type               </span>┃<span style=\"color: #800080; text-decoration-color: #800080; font-weight: bold\"> Params </span>┃<span style=\"color: #800080; text-decoration-color: #800080; font-weight: bold\"> Mode  </span>┃\n",
       "┡━━━╇━━━━━━━━━━━━━━━━━━━━━━━━━━╇━━━━━━━━━━━━━━━━━━━━╇━━━━━━━━╇━━━━━━━┩\n",
       "│<span style=\"color: #7f7f7f; text-decoration-color: #7f7f7f\"> 0 </span>│ model                    │ RNN                │ 31.2 K │ train │\n",
       "│<span style=\"color: #7f7f7f; text-decoration-color: #7f7f7f\"> 1 </span>│ model.lstm               │ LSTM               │ 30.4 K │ train │\n",
       "│<span style=\"color: #7f7f7f; text-decoration-color: #7f7f7f\"> 2 </span>│ model.linear_000         │ LSD                │    810 │ train │\n",
       "│<span style=\"color: #7f7f7f; text-decoration-color: #7f7f7f\"> 3 </span>│ model.linear_000.linear  │ Linear             │    810 │ train │\n",
       "│<span style=\"color: #7f7f7f; text-decoration-color: #7f7f7f\"> 4 </span>│ model.linear_000.act     │ SiLU               │      0 │ train │\n",
       "│<span style=\"color: #7f7f7f; text-decoration-color: #7f7f7f\"> 5 </span>│ model.linear_000.dropout │ Dropout            │      0 │ train │\n",
       "│<span style=\"color: #7f7f7f; text-decoration-color: #7f7f7f\"> 6 </span>│ loss_fn                  │ CrossEntropyLoss   │      0 │ train │\n",
       "│<span style=\"color: #7f7f7f; text-decoration-color: #7f7f7f\"> 7 </span>│ accuracy                 │ MulticlassAccuracy │      0 │ train │\n",
       "│<span style=\"color: #7f7f7f; text-decoration-color: #7f7f7f\"> 8 </span>│ train_accuracy           │ MulticlassAccuracy │      0 │ train │\n",
       "└───┴──────────────────────────┴────────────────────┴────────┴───────┘\n",
       "</pre>\n"
      ],
      "text/plain": [
       "┏━━━┳━━━━━━━━━━━━━━━━━━━━━━━━━━┳━━━━━━━━━━━━━━━━━━━━┳━━━━━━━━┳━━━━━━━┓\n",
       "┃\u001b[1;35m \u001b[0m\u001b[1;35m \u001b[0m\u001b[1;35m \u001b[0m┃\u001b[1;35m \u001b[0m\u001b[1;35mName                    \u001b[0m\u001b[1;35m \u001b[0m┃\u001b[1;35m \u001b[0m\u001b[1;35mType              \u001b[0m\u001b[1;35m \u001b[0m┃\u001b[1;35m \u001b[0m\u001b[1;35mParams\u001b[0m\u001b[1;35m \u001b[0m┃\u001b[1;35m \u001b[0m\u001b[1;35mMode \u001b[0m\u001b[1;35m \u001b[0m┃\n",
       "┡━━━╇━━━━━━━━━━━━━━━━━━━━━━━━━━╇━━━━━━━━━━━━━━━━━━━━╇━━━━━━━━╇━━━━━━━┩\n",
       "│\u001b[2m \u001b[0m\u001b[2m0\u001b[0m\u001b[2m \u001b[0m│ model                    │ RNN                │ 31.2 K │ train │\n",
       "│\u001b[2m \u001b[0m\u001b[2m1\u001b[0m\u001b[2m \u001b[0m│ model.lstm               │ LSTM               │ 30.4 K │ train │\n",
       "│\u001b[2m \u001b[0m\u001b[2m2\u001b[0m\u001b[2m \u001b[0m│ model.linear_000         │ LSD                │    810 │ train │\n",
       "│\u001b[2m \u001b[0m\u001b[2m3\u001b[0m\u001b[2m \u001b[0m│ model.linear_000.linear  │ Linear             │    810 │ train │\n",
       "│\u001b[2m \u001b[0m\u001b[2m4\u001b[0m\u001b[2m \u001b[0m│ model.linear_000.act     │ SiLU               │      0 │ train │\n",
       "│\u001b[2m \u001b[0m\u001b[2m5\u001b[0m\u001b[2m \u001b[0m│ model.linear_000.dropout │ Dropout            │      0 │ train │\n",
       "│\u001b[2m \u001b[0m\u001b[2m6\u001b[0m\u001b[2m \u001b[0m│ loss_fn                  │ CrossEntropyLoss   │      0 │ train │\n",
       "│\u001b[2m \u001b[0m\u001b[2m7\u001b[0m\u001b[2m \u001b[0m│ accuracy                 │ MulticlassAccuracy │      0 │ train │\n",
       "│\u001b[2m \u001b[0m\u001b[2m8\u001b[0m\u001b[2m \u001b[0m│ train_accuracy           │ MulticlassAccuracy │      0 │ train │\n",
       "└───┴──────────────────────────┴────────────────────┴────────┴───────┘\n"
      ]
     },
     "metadata": {},
     "output_type": "display_data"
    },
    {
     "data": {
      "text/html": [
       "<pre style=\"white-space:pre;overflow-x:auto;line-height:normal;font-family:Menlo,'DejaVu Sans Mono',consolas,'Courier New',monospace\"><span style=\"font-weight: bold\">Trainable params</span>: 31.2 K                                                                                           \n",
       "<span style=\"font-weight: bold\">Non-trainable params</span>: 0                                                                                            \n",
       "<span style=\"font-weight: bold\">Total params</span>: 31.2 K                                                                                               \n",
       "<span style=\"font-weight: bold\">Total estimated model params size (MB)</span>: 0                                                                          \n",
       "<span style=\"font-weight: bold\">Modules in train mode</span>: 9                                                                                           \n",
       "<span style=\"font-weight: bold\">Modules in eval mode</span>: 0                                                                                            \n",
       "</pre>\n"
      ],
      "text/plain": [
       "\u001b[1mTrainable params\u001b[0m: 31.2 K                                                                                           \n",
       "\u001b[1mNon-trainable params\u001b[0m: 0                                                                                            \n",
       "\u001b[1mTotal params\u001b[0m: 31.2 K                                                                                               \n",
       "\u001b[1mTotal estimated model params size (MB)\u001b[0m: 0                                                                          \n",
       "\u001b[1mModules in train mode\u001b[0m: 9                                                                                           \n",
       "\u001b[1mModules in eval mode\u001b[0m: 0                                                                                            \n"
      ]
     },
     "metadata": {},
     "output_type": "display_data"
    },
    {
     "data": {
      "application/vnd.jupyter.widget-view+json": {
       "model_id": "35e06fa32dcb41f884e07eba0d721b99",
       "version_major": 2,
       "version_minor": 0
      },
      "text/plain": [
       "Output()"
      ]
     },
     "metadata": {},
     "output_type": "display_data"
    },
    {
     "name": "stderr",
     "output_type": "stream",
     "text": [
      "`Trainer.fit` stopped: `max_epochs=50` reached.\n"
     ]
    },
    {
     "data": {
      "text/html": [
       "<pre style=\"white-space:pre;overflow-x:auto;line-height:normal;font-family:Menlo,'DejaVu Sans Mono',consolas,'Courier New',monospace\"></pre>\n"
      ],
      "text/plain": []
     },
     "metadata": {},
     "output_type": "display_data"
    }
   ],
   "source": [
    "import mlflow\n",
    "\n",
    "latest = mlflow.search_runs(experiment_names=[EXPERIMENT_NAME], order_by=[\"start_time desc\"], max_results=1, filter_string=\"status='FINISHED'\")\n",
    "\n",
    "retrain = True\n",
    "if len(latest) > 0 and 0:\n",
    "    zero = latest.iloc[0]\n",
    "    print(zero)\n",
    "    run_id = zero.run_id\n",
    "    print(f\"Found previous run with id {run_id}\")\n",
    "    exp_id = zero.experiment_id\n",
    "    print(f\"Found previous experiment with id {exp_id}\")\n",
    "    latest_accuracy = zero[\"metrics.val_acc\"]\n",
    "    print(f\"Latest accuracy: {latest_accuracy}\")\n",
    "    retrain = latest_accuracy < 0.95\n",
    "\n",
    "    latest_checkpoint_path = Path(\".\") / \"mlruns\" / exp_id / run_id / \"checkpoints\"\n",
    "    latest_checkpoint = latest_checkpoint_path.glob(\"*.ckpt\")\n",
    "    latest_checkpoint = sorted(latest_checkpoint, key=lambda x: x.stat().st_mtime)[-1]\n",
    "    print(f\"Latest checkpoint: {latest_checkpoint}\")\n",
    "    model = torch.load(latest_checkpoint)\n",
    "    print(type(model), model.keys())\n",
    "    rnn.load_state_dict({k.replace(\"model.\", \"\"): v for k, v in model[\"state_dict\"].items()})\n",
    "    # rnn_trainer.model = rnn\n",
    "    # rnn_trainer.to(DEVICE)\n",
    "\n",
    "if retrain:\n",
    "    print(\"Retraining model\")\n",
    "    trainer.fit(model=rnn_trainer, train_dataloaders=train_loader, val_dataloaders=val_loader)\n",
    "\n",
    "\n",
    "torch.save(rnn.state_dict(), CHECKPOINT_PATH / EXPERIMENT_NAME / f\"rnn_f32.pt\")"
   ]
  },
  {
   "cell_type": "code",
   "execution_count": null,
   "id": "c31630bf",
   "metadata": {},
   "outputs": [],
   "source": []
  },
  {
   "cell_type": "code",
   "execution_count": 10,
   "id": "0ab49bd2",
   "metadata": {},
   "outputs": [],
   "source": [
    "from torchmetrics import ConfusionMatrix\n",
    "\n",
    "test_loader = DataLoader(\n",
    "    test_set,\n",
    "    batch_size=1024,\n",
    "    shuffle=False,\n",
    "    num_workers=4,\n",
    "    pin_memory=True,\n",
    "    collate_fn=collate_fn,\n",
    ")\n",
    "\n",
    "\n",
    "confmat = ConfusionMatrix(task=\"multiclass\", normalize='true', num_classes=N_CLASSES, ).to(DEVICE)\n",
    "confmat.reset()\n",
    "\n",
    "\n",
    "rnn.to(DEVICE)\n",
    "rnn.eval()\n",
    "for batch in test_loader:\n",
    "    mfcc, label = batch\n",
    "    mfcc = mfcc.to(DEVICE)\n",
    "    label = label.to(DEVICE)\n",
    "\n",
    "    with torch.no_grad():\n",
    "        pred = rnn(mfcc)\n",
    "\n",
    "    confmat.update(pred, label)\n",
    "\n",
    "\n",
    "matrix = confmat.compute().cpu().numpy()\n",
    "\n"
   ]
  },
  {
   "cell_type": "code",
   "execution_count": 11,
   "id": "48fb9be0",
   "metadata": {},
   "outputs": [
    {
     "name": "stdout",
     "output_type": "stream",
     "text": [
      "[0.9285714  1.         0.95238096 0.97619045 1.         1.\n",
      " 0.9285714  1.         0.85714287 0.97619045]\n"
     ]
    },
    {
     "data": {
      "image/png": "[encoded data removed]",
      "text/plain": [
       "<Figure size 500x500 with 2 Axes>"
      ]
     },
     "metadata": {},
     "output_type": "display_data"
    }
   ],
   "source": [
    "\n",
    "# get main diagonal\n",
    "diag = matrix.diagonal()\n",
    "print(diag)\n",
    "# print(matrix)\n",
    "fig, ax = plt.subplots(figsize=(5, 5))\n",
    "\n",
    "im = ax.imshow(matrix, interpolation='nearest', cmap=plt.cm.Blues, vmin=0, vmax=1)\n",
    "ax.set_title(f\"Confusion Matrix\\n(~{100*diag.mean():.1f}% test accuracy)\")\n",
    "ax.set_xlabel(\"Predicted\")\n",
    "ax.set_ylabel(\"True\")\n",
    "ax.set_xticks(range(N_CLASSES))\n",
    "ax.set_yticks(range(N_CLASSES))\n",
    "ax.set_xticklabels(range(N_CLASSES))\n",
    "ax.set_yticklabels(range(N_CLASSES))\n",
    "plt.colorbar(im, ax=ax)\n",
    "plt.show()"
   ]
  },
  {
   "cell_type": "code",
   "execution_count": 12,
   "id": "95b2c898",
   "metadata": {},
   "outputs": [
    {
     "name": "stderr",
     "output_type": "stream",
     "text": [
      "/home/chanokin/innatera/audio_digit_classifier/.venv/lib/python3.12/site-packages/torch/ao/nn/quantized/dynamic/modules/rnn.py:136: UserWarning: dropout option adds dropout after all but last recurrent layer, so non-zero dropout expects num_layers greater than 1, but got dropout=0.3 and num_layers=1\n",
      "  warnings.warn(\n"
     ]
    }
   ],
   "source": [
    "model_int8 = torch.quantization.quantize_dynamic(\n",
    "    rnn,  # the original model\n",
    "    {torch.nn.LSTM, torch.nn.Linear},  # a set of layers to dynamically quantize\n",
    "    dtype=torch.qint8, # the target dtype for quantized weights\n",
    ")\n"
   ]
  },
  {
   "cell_type": "code",
   "execution_count": 13,
   "id": "87b0f07d",
   "metadata": {},
   "outputs": [],
   "source": [
    "\n",
    "confmat = ConfusionMatrix(task=\"multiclass\", normalize='true', num_classes=N_CLASSES, ).to(DEVICE)\n",
    "confmat.reset()\n",
    "\n",
    "\n",
    "model_int8.to(DEVICE)\n",
    "model_int8.eval()\n",
    "for batch in test_loader:\n",
    "    mfcc, label = batch\n",
    "    mfcc = mfcc.to(DEVICE)\n",
    "    label = label.to(DEVICE)\n",
    "\n",
    "    with torch.no_grad():\n",
    "        pred = model_int8(mfcc)\n",
    "\n",
    "    confmat.update(pred, label)\n",
    "\n",
    "\n",
    "matrix = confmat.compute().cpu().numpy()\n",
    "\n"
   ]
  },
  {
   "cell_type": "code",
   "execution_count": 14,
   "id": "ceb48da7",
   "metadata": {},
   "outputs": [
    {
     "name": "stdout",
     "output_type": "stream",
     "text": [
      "[0.95238096 0.97619045 0.95238096 1.         1.         1.\n",
      " 0.95238096 1.         0.85714287 0.97619045]\n"
     ]
    },
    {
     "data": {
      "image/png": "[encoded data removed]",
      "text/plain": [
       "<Figure size 500x500 with 2 Axes>"
      ]
     },
     "metadata": {},
     "output_type": "display_data"
    }
   ],
   "source": [
    "\n",
    "# get main diagonal\n",
    "diag = matrix.diagonal()\n",
    "print(diag)\n",
    "# print(matrix)\n",
    "fig, ax = plt.subplots(figsize=(5, 5))\n",
    "\n",
    "im = ax.imshow(matrix, interpolation='nearest', cmap=plt.cm.Blues, vmin=0, vmax=1)\n",
    "ax.set_title(f\"Confusion Matrix\\n(~{100*diag.mean():.1f}% test accuracy)\")\n",
    "ax.set_xlabel(\"Predicted\")\n",
    "ax.set_ylabel(\"True\")\n",
    "ax.set_xticks(range(N_CLASSES))\n",
    "ax.set_yticks(range(N_CLASSES))\n",
    "ax.set_xticklabels(range(N_CLASSES))\n",
    "ax.set_yticklabels(range(N_CLASSES))\n",
    "plt.colorbar(im, ax=ax)\n",
    "plt.show()"
   ]
  },
  {
   "cell_type": "code",
   "execution_count": 15,
   "id": "b2147ad0",
   "metadata": {},
   "outputs": [
    {
     "data": {
      "text/plain": [
       "RNN(\n",
       "  (lstm): DynamicQuantizedLSTM(13, 80, batch_first=True, dropout=0.3)\n",
       "  (linear_000): LSD(\n",
       "    (linear): DynamicQuantizedLinear(in_features=80, out_features=10, dtype=torch.qint8, qscheme=torch.per_tensor_affine)\n",
       "    (act): SiLU()\n",
       "    (dropout): Dropout(p=0.0, inplace=False)\n",
       "  )\n",
       ")"
      ]
     },
     "execution_count": 15,
     "metadata": {},
     "output_type": "execute_result"
    }
   ],
   "source": [
    "model_int8"
   ]
  },
  {
   "cell_type": "code",
   "execution_count": 16,
   "id": "089bc67c",
   "metadata": {},
   "outputs": [],
   "source": [
    "# save the model\n",
    "torch.save(model_int8.state_dict(), CHECKPOINT_PATH / EXPERIMENT_NAME / \"rnn_int8.pt\")"
   ]
  },
  {
   "cell_type": "code",
   "execution_count": 17,
   "id": "c36b967c",
   "metadata": {},
   "outputs": [
    {
     "name": "stdout",
     "output_type": "stream",
     "text": [
      "F32 Model size: 121.91 KB\n",
      "F32 Model size: 30.48 KB\n"
     ]
    }
   ],
   "source": [
    "n_f32_params = sum(p.numel() for p in rnn.parameters())\n",
    "n_KB_f32 = n_f32_params * 4 / 1024\n",
    "n_KB_i8 = n_f32_params / 1024\n",
    "\n",
    "print(f\"F32 Model size: {n_KB_f32:.2f} KB\")\n",
    "print(f\"F32 Model size: {n_KB_i8:.2f} KB\")"
   ]
  },
  {
   "cell_type": "code",
   "execution_count": 20,
   "id": "c516d9ca",
   "metadata": {},
   "outputs": [
    {
     "data": {
      "text/plain": [
       "tensor([[ 0.4328, -0.1997,  0.5437,  0.0444,  0.2885, -0.0333,  0.1443,  1.0319,\n",
       "         -0.3440,  0.0222,  0.0444, -0.2996, -0.0111, -0.4106,  1.0985, -0.0888,\n",
       "          0.1443, -0.1886,  0.0222, -0.7213, -0.2219,  0.0666, -0.7767,  0.5881,\n",
       "         -0.4549,  0.2552, -0.0777, -0.9765,  0.4549,  0.1553,  0.0888,  0.0222,\n",
       "         -0.2663,  0.4106,  0.3107, -0.9432, -0.1997, -0.1221, -0.3773, -0.3773,\n",
       "          1.1207, -0.5881, -0.0666, -0.2996, -0.5326, -0.1332,  0.3884,  0.1997,\n",
       "          0.1221, -0.4106,  0.1553,  0.0888,  0.1775, -0.2219,  0.0000, -0.3107,\n",
       "         -0.0888, -0.0222,  0.2996, -0.0222,  0.5104,  0.2441,  0.3218, -0.2330,\n",
       "          0.2330,  0.6325,  0.1221, -0.0555, -0.0333,  0.3218, -0.4438, -0.0444,\n",
       "          0.1886,  0.7989, -0.1997, -0.6658, -0.3884,  0.0777, -0.0555,  0.0333],\n",
       "        [-0.0888, -0.0333, -0.5548,  0.3107, -0.0777, -0.1332, -0.0444, -0.4438,\n",
       "         -0.2996, -0.1997,  0.2219,  1.4092, -0.2774, -0.2552,  0.6769,  0.0111,\n",
       "         -0.0222, -0.2552,  0.0888,  0.2663,  0.0777,  0.3773,  0.3884, -0.4438,\n",
       "         -0.5770,  0.0777, -0.0111, -0.6547,  0.4438,  0.7102,  0.0555,  0.0222,\n",
       "          0.1443, -0.2330,  0.0999,  0.6991, -0.2885,  0.0333,  0.1775, -1.2206,\n",
       "         -0.7434, -0.2885,  0.2663,  0.3884,  0.2663, -0.0999, -0.4549,  0.2774,\n",
       "         -0.1443, -0.1664, -0.1553, -0.0222,  0.1664, -0.6325,  0.0777,  0.2663,\n",
       "         -0.6880,  0.0999,  0.2441, -0.0555,  0.3884, -0.5104, -0.5770,  0.2330,\n",
       "          0.0333,  0.6436, -0.2330,  0.0888, -0.1997,  0.1997, -0.3440, -0.3107,\n",
       "          0.2108, -0.4328, -0.2885,  0.2774,  0.5104,  0.2330,  0.0111,  0.2552],\n",
       "        [-0.0888, -0.2663, -0.4328, -0.0111, -0.0333,  0.1553, -0.1886,  0.5881,\n",
       "         -0.5992,  0.7545, -0.0888, -0.1332,  0.5992,  0.6436, -0.6769,  0.4882,\n",
       "         -0.0444, -0.3551, -0.2219,  0.0888, -0.3440,  0.3662,  0.0000,  0.4660,\n",
       "         -1.2095,  0.2663, -0.0555,  0.5104,  0.3440,  0.6436,  0.0666, -0.1886,\n",
       "         -0.1775,  0.2108,  0.0777, -0.3884, -0.2441, -0.1553, -0.0111,  0.5104,\n",
       "          0.6325, -0.5104,  0.1886, -0.1775, -0.8877, -0.0888, -0.0444, -0.1997,\n",
       "          0.6436,  0.0777, -0.0444,  0.1997,  0.1886, -0.3884, -0.1553, -0.3884,\n",
       "          0.6436,  0.0333, -0.0555,  0.1332, -1.0652, -0.7324, -0.5437,  0.0000,\n",
       "          0.3218, -0.6991, -0.3773,  0.1221, -0.1997,  0.0777,  0.9321, -0.5659,\n",
       "          0.0666,  0.2663, -0.3218,  0.0000, -0.4438, -0.0222,  0.1110, -0.2441],\n",
       "        [-0.0666, -0.1443, -0.0999,  0.2552,  0.0222, -0.0555,  0.0444,  0.7545,\n",
       "         -0.2552, -0.1664, -0.0222, -0.0999,  0.5770, -0.0111, -0.6103, -0.1997,\n",
       "         -0.1221, -0.0111, -0.1221,  0.3107,  0.1664, -0.5770, -0.3884,  0.3773,\n",
       "          0.5992,  0.2219, -0.0888, -0.3329,  0.2663, -0.8211, -0.0444, -0.0222,\n",
       "          0.2108,  0.5437, -0.2219, -0.8211, -0.3440,  0.0444,  0.1443,  0.2219,\n",
       "          0.3884,  0.9654, -0.2219,  0.0777,  0.0222, -0.0222, -0.2996,  0.0666,\n",
       "          0.5548,  0.2552, -0.1221, -0.3107, -0.2885,  0.5992, -0.1443, -0.5548,\n",
       "          0.2441,  0.0999,  0.4549,  0.0555, -0.1664,  0.3773,  0.6214, -0.3218,\n",
       "         -0.1775, -0.2996, -0.8322, -0.5548, -0.0111, -0.0444,  1.1318,  0.4771,\n",
       "          0.0666, -0.1997, -0.3107,  0.1553,  0.1332,  0.0222, -0.3218, -0.2441],\n",
       "        [-0.3107,  0.0111,  1.0874, -0.3107, -0.1221,  0.3995,  0.0777, -0.4106,\n",
       "         -0.6658,  0.4549,  0.2219,  0.6658, -0.0999, -0.0444,  0.3662, -0.1110,\n",
       "          0.2330, -0.5437,  0.0999, -0.0222, -0.5437,  1.0985,  0.5215,  0.7656,\n",
       "         -0.8877, -0.0444, -0.0444,  0.2219,  0.0222,  0.6769,  0.2219, -0.2774,\n",
       "         -0.2108,  0.0222, -0.3662,  0.1775,  0.3995, -0.0777,  0.0666, -0.8877,\n",
       "         -1.1762, -0.4217,  0.1886, -0.3662,  0.1443,  0.0555,  0.4549, -0.0333,\n",
       "         -0.6214,  0.0777, -0.2441,  0.0777,  0.2330, -0.2441,  0.0888,  0.5215,\n",
       "         -0.4106,  0.1443,  0.3773, -0.2108,  0.1775,  0.3218,  0.9321, -0.1886,\n",
       "         -0.3773, -0.5104,  0.3662, -0.1997, -0.3107, -0.1553, -0.2663, -0.1886,\n",
       "          0.0000, -0.2552, -0.1332, -0.6103, -0.3773,  0.3218, -0.4106,  0.0777],\n",
       "        [-0.2774,  0.3884,  0.8211, -0.3662, -0.1664, -0.1221,  0.2108, -0.2552,\n",
       "          0.4882,  0.2885,  0.1997,  0.1443,  0.2219,  0.0333,  0.3218, -0.0333,\n",
       "          0.2774, -0.0111, -0.0333,  0.5326, -0.1110,  1.3094,  1.0209, -1.1318,\n",
       "          0.9210,  0.1110, -0.2330, -0.4438, -0.5437,  0.1664,  0.3551,  0.2552,\n",
       "         -0.1997, -0.2885, -0.2441, -0.1110,  0.4328,  0.2108,  0.2663,  0.8877,\n",
       "         -0.2885,  0.1221,  0.3662, -0.1110,  0.2552,  0.4549, -0.2219,  0.1443,\n",
       "          0.3662,  0.2663, -0.1443,  0.1221, -0.3662, -0.4438, -0.4106,  0.3551,\n",
       "         -0.4549,  0.2441, -0.0333, -0.2552, -0.2330,  0.6880, -0.6547,  0.1221,\n",
       "          0.2774, -0.3107,  0.4993, -0.3107, -0.0888, -0.4882,  0.2774, -0.1443,\n",
       "          0.3551, -0.3329, -0.0333,  0.2441,  0.0888,  0.0999, -0.3440,  0.0666],\n",
       "        [ 0.1886,  0.3662, -0.1886, -0.0777, -0.2108,  0.1997, -0.3884, -0.7545,\n",
       "          1.0763, -0.0222,  0.1775, -0.4882,  0.6325,  0.3107, -0.2996, -0.3329,\n",
       "          0.0111,  0.1775, -0.0777, -0.2108,  0.0999, -0.6769, -0.8655,  0.3773,\n",
       "          0.9654,  0.1997,  0.1997,  0.5437, -0.5326, -0.7102, -0.0222, -0.0777,\n",
       "         -0.0777, -0.0222, -0.0222, -0.5326,  0.1553, -0.1553, -0.0666,  0.5215,\n",
       "          0.5326,  0.3329, -0.3440, -0.6325, -0.6880, -0.2552, -0.2552, -0.1886,\n",
       "         -0.7102,  0.2774, -0.3440, -0.1110, -0.1664,  0.5437, -0.0111,  0.1553,\n",
       "          0.5659,  0.1775, -0.8988,  0.7656, -0.7324, -0.2441,  0.2552, -0.1110,\n",
       "         -0.1443, -0.0444,  0.8433,  0.8433,  0.0111,  0.3218, -0.6214,  0.0999,\n",
       "         -0.1997, -0.2774,  0.2108,  0.0222,  0.0222, -0.2774, -0.1997,  0.0666],\n",
       "        [-0.0555, -0.3884, -0.0555, -0.1443, -0.0333,  0.0444, -0.0555, -0.2108,\n",
       "          0.5770, -0.2663,  0.4217, -0.5659, -0.2885, -0.1332, -0.0222, -0.1332,\n",
       "          0.0333, -0.5104,  0.1997,  0.2330,  0.0777, -0.4771, -0.2774,  0.5881,\n",
       "         -0.2552,  0.0222, -0.1443,  0.8766, -0.6769, -0.9654,  0.1332, -0.0111,\n",
       "          0.2774,  0.2441,  0.0666,  0.6103, -0.0333,  0.0999, -0.1443, -0.7213,\n",
       "         -1.0763, -0.3773, -0.3773, -0.1221,  0.7324,  0.1553, -0.3329, -0.1664,\n",
       "          0.4438, -0.3329, -0.2663,  0.3551, -0.0666,  0.8766, -0.0777,  0.1332,\n",
       "          0.9210, -0.0444,  0.7324,  0.1332,  0.5104, -0.2219, -0.5992,  0.0111,\n",
       "          0.0000, -0.5659, -0.6658, -0.2552, -0.0444, -0.0111, -0.8433, -0.0888,\n",
       "         -0.0111, -0.2552,  0.2108,  0.2219,  0.2552, -0.1332, -0.3218, -0.1443],\n",
       "        [ 0.2108,  0.2663, -0.5992,  0.0111,  0.1221,  0.3995,  0.0000,  0.6325,\n",
       "         -0.4106, -0.3551,  0.0999,  0.3884, -0.9876,  0.0222, -0.3773, -0.1775,\n",
       "         -0.6436,  0.5881, -0.0777,  0.0555,  0.3440, -0.5548,  0.3662,  0.2108,\n",
       "          0.1775,  0.2108,  0.2663,  0.5548,  0.0555,  0.1110, -0.2774, -0.0222,\n",
       "          0.0555, -0.4771,  0.0999,  0.9876,  0.0777,  0.0777, -0.0999,  0.4771,\n",
       "          0.5992,  0.4106,  0.0999,  0.2663,  1.0098, -0.1443, -0.3773, -0.3662,\n",
       "         -0.9987,  0.1775, -0.1332, -0.2552, -0.1553, -0.3329, -0.2330,  0.5215,\n",
       "          0.0555,  0.0000, -0.7878, -0.3773, -0.4771,  0.4328,  0.1997,  0.3218,\n",
       "          0.0666,  0.0111,  0.6547, -0.2996, -0.2441, -0.0333,  0.9765,  0.2774,\n",
       "         -0.1664,  0.3662, -0.0666, -0.6325, -0.1664,  0.3773, -0.2774,  0.5548],\n",
       "        [ 0.2774, -0.2108, -0.4882,  0.0555,  0.0111, -0.0555,  0.0888, -0.8322,\n",
       "         -0.0222, -0.3884, -0.0555, -1.1318, -0.2885, -0.2441, -0.0999, -0.1110,\n",
       "          0.0888, -0.0666,  0.0000,  0.1886,  0.3884, -1.3648, -0.2885, -1.2650,\n",
       "          0.7656,  0.1221, -0.0999, -0.0555, -0.0444, -0.0333, -0.0444,  0.1775,\n",
       "          0.2663, -0.0666,  0.0333,  0.2774,  0.0111,  0.0555,  0.2441,  1.2428,\n",
       "          0.1553,  0.0666, -0.5659,  0.4217,  0.1997, -0.1110, -0.2108, -0.0444,\n",
       "          0.5659, -0.2108, -0.0333,  0.1553, -0.1110,  0.0444,  0.1443, -0.2330,\n",
       "         -1.2539,  0.0999,  0.3329, -0.2663,  0.6658, -0.4549, -0.1332,  0.0777,\n",
       "          0.0444,  0.8433, -0.4660, -0.1221,  0.0000,  0.1553, -0.6325,  0.1443,\n",
       "         -0.0111,  0.0777, -0.3107,  0.3884,  0.3329,  0.0222,  0.1664,  0.3107]],\n",
       "       size=(10, 80), dtype=torch.qint8,\n",
       "       quantization_scheme=torch.per_tensor_affine, scale=0.011096236295998096,\n",
       "       zero_point=0)"
      ]
     },
     "execution_count": 20,
     "metadata": {},
     "output_type": "execute_result"
    }
   ],
   "source": [
    "model_int8.linear_000.linear.weight()"
   ]
  },
  {
   "cell_type": "code",
   "execution_count": null,
   "id": "b9e4d69c",
   "metadata": {},
   "outputs": [],
   "source": []
  },
  {
   "cell_type": "code",
   "execution_count": null,
   "id": "c8da5dfa",
   "metadata": {},
   "outputs": [],
   "source": []
  }
 ],
 "metadata": {
  "kernelspec": {
   "display_name": ".venv",
   "language": "python",
   "name": "python3"
  },
  "language_info": {
   "codemirror_mode": {
    "name": "ipython",
    "version": 3
   },
   "file_extension": ".py",
   "mimetype": "text/x-python",
   "name": "python",
   "nbconvert_exporter": "python",
   "pygments_lexer": "ipython3",
   "version": "3.12.3"
  }
 },
 "nbformat": 4,
 "nbformat_minor": 5
}
