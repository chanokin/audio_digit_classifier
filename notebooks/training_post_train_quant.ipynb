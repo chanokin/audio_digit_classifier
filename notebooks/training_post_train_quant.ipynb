{
 "cells": [
  {
   "cell_type": "code",
   "execution_count": 1,
   "id": "ed7dbeb9",
   "metadata": {},
   "outputs": [],
   "source": [
    "import torch\n",
    "from torchfsdd import TorchFSDDGenerator, TrimSilence\n",
    "from torchaudio.transforms import MFCC, TimeMasking, FrequencyMasking\n",
    "from torchvision.transforms import Compose\n",
    "from torch.utils.data import DataLoader\n",
    "from lightning import Trainer\n",
    "from lightning.pytorch.loggers import MLFlowLogger\n",
    "from lightning.pytorch.callbacks import ModelCheckpoint, LearningRateMonitor, EarlyStopping, RichModelSummary, RichProgressBar\n",
    "from matplotlib import pyplot as plt\n",
    "from pathlib import Path\n",
    "import sys\n",
    "import numpy as np\n",
    "# quick hacky way to get the package visible in the notebook\n",
    "base_path = Path(\".\").resolve().parent\n",
    "sys.path.append(str(base_path ))\n",
    "\n",
    "from sdc.rnn import RNN\n",
    "from sdc.trainer import RNNTrainer\n",
    "USE_GPU = torch.cuda.is_available() and 0\n",
    "N_CLASSES = 10 # 0-9 digits\n",
    "SAMPLING_RATE = 8e3  # 8kHz\n",
    "N_MFCC_CHANNELS = 13  # Number of MFCC channels\n",
    "MAX_EPOCHS = 50\n",
    "DEVICE = torch.device(\"cuda\") if USE_GPU else torch.device(\"cpu\")\n",
    "CHECKPOINT_PATH = Path(\".\") / \"saved_models\"\n",
    "CHECKPOINT_PATH.mkdir(parents=True, exist_ok=True)\n",
    "EXPERIMENT_NAME = \"rnn_model_ptq\"\n",
    "BATCH_SIZE = 4\n",
    "\n",
    "# torch.set_default_device(DEVICE)\n",
    "# torch.set_default_dtype(torch.float16)\n",
    "torch.set_float32_matmul_precision(\"medium\")\n",
    "# torch.set_float32_matmul_precision(\"high\")\n",
    "\n",
    "\n",
    "# chop off silence from the beginning and end of the audio\n",
    "trimmer = TrimSilence(threshold=1e-6)\n",
    "\n",
    "mfcc = MFCC(sample_rate=SAMPLING_RATE, n_mfcc=N_MFCC_CHANNELS)\n",
    "\n",
    "time_masking = TimeMasking(time_mask_param=2, p=0.3)\n",
    "freq_masking = FrequencyMasking(freq_mask_param=2)\n",
    "freq_masking.p = 0.3\n",
    "\n",
    "# Fetch the latest version of FSDD and initialize a generator with those files\n",
    "fsdd = TorchFSDDGenerator(version='master', transforms=None)\n",
    "\n",
    "# Create three Torch datasets for a train-validation-test split from the generator\n",
    "train_set, val_set, test_set = fsdd.train_val_test_split(test_size=0.15, val_size=0.15)\n",
    "\n"
   ]
  },
  {
   "cell_type": "code",
   "execution_count": null,
   "id": "a1da7ca5",
   "metadata": {},
   "outputs": [],
   "source": []
  },
  {
   "cell_type": "code",
   "execution_count": 2,
   "id": "a2ebe88a",
   "metadata": {},
   "outputs": [],
   "source": [
    "default_root_dir = CHECKPOINT_PATH / EXPERIMENT_NAME\n",
    "default_root_dir.mkdir(parents=True, exist_ok=True)\n"
   ]
  },
  {
   "cell_type": "code",
   "execution_count": 3,
   "id": "ccf0babe",
   "metadata": {},
   "outputs": [],
   "source": [
    "mlf_logger = MLFlowLogger(\n",
    "    experiment_name=EXPERIMENT_NAME,\n",
    "    # tracking_uri=f\"http://localhost:5000\",\n",
    ")"
   ]
  },
  {
   "cell_type": "code",
   "execution_count": 4,
   "id": "2577e55c",
   "metadata": {},
   "outputs": [],
   "source": [
    "# Create a transformation pipeline to apply to the recordings\n",
    "train_transforms = Compose([\n",
    "    trimmer,\n",
    "    mfcc,\n",
    "    time_masking,\n",
    "    freq_masking,\n",
    "])\n",
    "\n",
    "val_transforms = Compose([\n",
    "    trimmer,\n",
    "    mfcc,\n",
    "])\n",
    "\n",
    "train_set.transforms = train_transforms\n",
    "val_set.transforms = val_transforms\n",
    "test_set.transforms = val_transforms"
   ]
  },
  {
   "cell_type": "code",
   "execution_count": 5,
   "id": "71ab88d3",
   "metadata": {},
   "outputs": [],
   "source": [
    "def collate_fn(data):\n",
    "    \"\"\"Batch and pad wakeword data\"\"\"\n",
    "    mfccs = []\n",
    "    labels = []\n",
    "    for d in data:\n",
    "        mfcc, label = d\n",
    "        mfccs.append(mfcc.squeeze(0).transpose(0, 1))\n",
    "        labels.append(label)\n",
    "\n",
    "    # pad mfccs to ensure all tensors are same size in the time dim\n",
    "    mfccs = torch.nn.utils.rnn.pad_sequence(mfccs, batch_first=True)  # batch, seq_len, feature\n",
    "\n",
    "    # print(mfccs.shape)\n",
    "    labels = torch.asarray(labels)\n",
    "    return mfccs, labels\n",
    "\n",
    "train_loader = DataLoader(\n",
    "    train_set,\n",
    "    batch_size=BATCH_SIZE,\n",
    "    shuffle=True,\n",
    "    num_workers=4,\n",
    "    pin_memory=True,\n",
    "    collate_fn=collate_fn,\n",
    ")\n",
    "\n",
    "val_loader = DataLoader(\n",
    "    val_set,\n",
    "    batch_size=BATCH_SIZE,\n",
    "    shuffle=False,\n",
    "    num_workers=4,\n",
    "    pin_memory=True,\n",
    "    collate_fn=collate_fn,\n",
    ")"
   ]
  },
  {
   "cell_type": "code",
   "execution_count": 6,
   "id": "74cf0e0f",
   "metadata": {},
   "outputs": [
    {
     "name": "stderr",
     "output_type": "stream",
     "text": [
      "/home/chanokin/innatera/audio_digit_classifier/.venv/lib/python3.12/site-packages/torch/nn/modules/rnn.py:123: UserWarning: dropout option adds dropout after all but last recurrent layer, so non-zero dropout expects num_layers greater than 1, but got dropout=0.3 and num_layers=1\n",
      "  warnings.warn(\n"
     ]
    },
    {
     "data": {
      "text/plain": [
       "RNN(\n",
       "  (lstm): LSTM(13, 80, batch_first=True, dropout=0.3)\n",
       "  (linear_000): LSD(\n",
       "    (linear): Linear(in_features=80, out_features=10, bias=True)\n",
       "    (act): SiLU()\n",
       "    (dropout): Dropout(p=0.3, inplace=False)\n",
       "  )\n",
       ")"
      ]
     },
     "execution_count": 6,
     "metadata": {},
     "output_type": "execute_result"
    }
   ],
   "source": [
    "rnn = RNN(\n",
    "    lstm_config={\n",
    "        'input_size': N_MFCC_CHANNELS,\n",
    "        'hidden_size': 80,\n",
    "        'num_layers': 1,\n",
    "    },\n",
    "    linear_sizes=[N_CLASSES],\n",
    ")\n",
    "\n",
    "rnn.to(DEVICE)"
   ]
  },
  {
   "cell_type": "code",
   "execution_count": 7,
   "id": "3eb354f7",
   "metadata": {},
   "outputs": [
    {
     "data": {
      "text/plain": [
       "RNNTrainer(\n",
       "  (model): RNN(\n",
       "    (lstm): LSTM(13, 80, batch_first=True, dropout=0.3)\n",
       "    (linear_000): LSD(\n",
       "      (linear): Linear(in_features=80, out_features=10, bias=True)\n",
       "      (act): SiLU()\n",
       "      (dropout): Dropout(p=0.3, inplace=False)\n",
       "    )\n",
       "  )\n",
       "  (loss_fn): CrossEntropyLoss()\n",
       "  (accuracy): MulticlassAccuracy()\n",
       "  (train_accuracy): MulticlassAccuracy()\n",
       ")"
      ]
     },
     "execution_count": 7,
     "metadata": {},
     "output_type": "execute_result"
    }
   ],
   "source": [
    "rnn_trainer = RNNTrainer(\n",
    "    model=rnn,\n",
    "\n",
    ")\n",
    "\n",
    "rnn_trainer.to(DEVICE)"
   ]
  },
  {
   "cell_type": "code",
   "execution_count": 8,
   "id": "445f69ac",
   "metadata": {},
   "outputs": [
    {
     "name": "stderr",
     "output_type": "stream",
     "text": [
      "Trainer already configured with model summary callbacks: [<class 'lightning.pytorch.callbacks.rich_model_summary.RichModelSummary'>]. Skipping setting a default `ModelSummary` callback.\n",
      "GPU available: True (cuda), used: False\n",
      "TPU available: False, using: 0 TPU cores\n",
      "HPU available: False, using: 0 HPUs\n",
      "/home/chanokin/innatera/audio_digit_classifier/.venv/lib/python3.12/site-packages/lightning/pytorch/trainer/setup.py:177: GPU available but not used. You can set it by doing `Trainer(accelerator='gpu')`.\n"
     ]
    }
   ],
   "source": [
    "trainer = Trainer(\n",
    "    default_root_dir=default_root_dir,\n",
    "    accelerator=\"cuda\" if USE_GPU else \"cpu\",\n",
    "    # amp_type=\"apex\",\n",
    "    # max_epochs=30 if i == 0 else 10,\n",
    "    max_epochs=MAX_EPOCHS,\n",
    "    # strategy=\"ddp\",\n",
    "    callbacks=[\n",
    "        ModelCheckpoint(),\n",
    "        RichProgressBar(),\n",
    "        LearningRateMonitor(\"epoch\"),\n",
    "        # PlotWeightsOnEpochEndCallback(),\n",
    "        # PlotWeightsOnTrainStartCallback(),\n",
    "        # EarlyStopping(monitor=\"val_acc\", patience=10, mode=\"max\"),\n",
    "        RichModelSummary(max_depth=3),\n",
    "    ],\n",
    "    logger=mlf_logger,\n",
    ")\n"
   ]
  },
  {
   "cell_type": "code",
   "execution_count": 30,
   "id": "fc0b27e3",
   "metadata": {},
   "outputs": [
    {
     "name": "stdout",
     "output_type": "stream",
     "text": [
      "run_id                                       1bb89df602944a35a23e4d075e5b9a06\n",
      "experiment_id                                              980229728920344126\n",
      "status                                                               FINISHED\n",
      "artifact_uri                file:///home/chanokin/innatera/audio_digit_cla...\n",
      "start_time                                   2025-05-04 14:56:50.798000+00:00\n",
      "end_time                                     2025-05-04 15:07:53.631000+00:00\n",
      "metrics.val_acc                                                      0.964286\n",
      "metrics.train_acc_epoch                                              0.730556\n",
      "metrics.train_loss_step                                              0.535961\n",
      "metrics.train_loss_epoch                                             0.773977\n",
      "metrics.train_acc_step                                                    1.0\n",
      "metrics.epoch                                                            49.0\n",
      "metrics.lr-Adam                                                         0.001\n",
      "metrics.val_loss                                                     0.244737\n",
      "tags.mlflow.user                                                     chanokin\n",
      "tags.mlflow.runName                                      youthful-squirrel-56\n",
      "tags.mlflow.source.name     /home/chanokin/innatera/audio_digit_classifier...\n",
      "tags.mlflow.source.type                                                 LOCAL\n",
      "Name: 0, dtype: object\n",
      "Found previous run with id 1bb89df602944a35a23e4d075e5b9a06\n",
      "Found previous experiment with id 980229728920344126\n",
      "Latest accuracy: 0.9642857313156128\n",
      "Latest checkpoint: mlruns/980229728920344126/1bb89df602944a35a23e4d075e5b9a06/checkpoints/epoch=49-step=27000.ckpt\n",
      "<class 'dict'> dict_keys(['epoch', 'global_step', 'pytorch-lightning_version', 'state_dict', 'loops', 'callbacks', 'optimizer_states', 'lr_schedulers'])\n"
     ]
    }
   ],
   "source": [
    "import mlflow\n",
    "\n",
    "latest = mlflow.search_runs(experiment_names=[EXPERIMENT_NAME], order_by=[\"start_time desc\"], max_results=1, filter_string=\"status='FINISHED'\")\n",
    "\n",
    "retrain = True\n",
    "if len(latest) > 0:\n",
    "    zero = latest.iloc[0]\n",
    "    print(zero)\n",
    "    run_id = zero.run_id\n",
    "    print(f\"Found previous run with id {run_id}\")\n",
    "    exp_id = zero.experiment_id\n",
    "    print(f\"Found previous experiment with id {exp_id}\")\n",
    "    latest_accuracy = zero[\"metrics.val_acc\"]\n",
    "    print(f\"Latest accuracy: {latest_accuracy}\")\n",
    "    retrain = latest_accuracy < 0.95\n",
    "\n",
    "    latest_checkpoint_path = Path(\".\") / \"mlruns\" / exp_id / run_id / \"checkpoints\"\n",
    "    latest_checkpoint = latest_checkpoint_path.glob(\"*.ckpt\")\n",
    "    latest_checkpoint = sorted(latest_checkpoint, key=lambda x: x.stat().st_mtime)[-1]\n",
    "    print(f\"Latest checkpoint: {latest_checkpoint}\")\n",
    "    model = torch.load(latest_checkpoint)\n",
    "    print(type(model), model.keys())\n",
    "    rnn.load_state_dict({k.replace(\"model.\", \"\"): v for k, v in model[\"state_dict\"].items()})\n",
    "    # rnn_trainer.model = rnn\n",
    "    # rnn_trainer.to(DEVICE)\n",
    "\n",
    "if retrain:\n",
    "    print(\"Retraining model\")\n",
    "    trainer.fit(model=rnn_trainer, train_dataloaders=train_loader, val_dataloaders=val_loader)\n",
    "\n",
    "\n",
    "torch.save(rnn.state_dict(), CHECKPOINT_PATH / EXPERIMENT_NAME / f\"rnn_f32.pt\")"
   ]
  },
  {
   "cell_type": "code",
   "execution_count": 10,
   "id": "0d748740",
   "metadata": {},
   "outputs": [
    {
     "name": "stdout",
     "output_type": "stream",
     "text": [
      "                             run_id       experiment_id    status  \\\n",
      "0  1bb89df602944a35a23e4d075e5b9a06  980229728920344126  FINISHED   \n",
      "\n",
      "                                        artifact_uri  \\\n",
      "0  file:///home/chanokin/innatera/audio_digit_cla...   \n",
      "\n",
      "                        start_time                         end_time  \\\n",
      "0 2025-05-04 14:56:50.798000+00:00 2025-05-04 15:07:53.631000+00:00   \n",
      "\n",
      "   metrics.val_acc  metrics.train_acc_epoch  metrics.train_loss_step  \\\n",
      "0         0.964286                 0.730556                 0.535961   \n",
      "\n",
      "   metrics.train_loss_epoch  metrics.train_acc_step  metrics.epoch  \\\n",
      "0                  0.773977                     1.0           49.0   \n",
      "\n",
      "   metrics.lr-Adam  metrics.val_loss tags.mlflow.user   tags.mlflow.runName  \\\n",
      "0            0.001          0.244737         chanokin  youthful-squirrel-56   \n",
      "\n",
      "                             tags.mlflow.source.name tags.mlflow.source.type  \n",
      "0  /home/chanokin/innatera/audio_digit_classifier...                   LOCAL  \n"
     ]
    }
   ],
   "source": [
    "import mlflow\n",
    "\n",
    "latest = mlflow.search_runs(experiment_names=[EXPERIMENT_NAME], order_by=[\"start_time desc\"], max_results=1, filter_string=\"status='FINISHED'\")\n",
    "\n",
    "print(latest)\n",
    "# run = mlflow.get_run(run_id=\"fafb190425fa4fecb9ea61d292e9609a\")"
   ]
  },
  {
   "cell_type": "code",
   "execution_count": null,
   "id": "c31630bf",
   "metadata": {},
   "outputs": [],
   "source": []
  },
  {
   "cell_type": "code",
   "execution_count": 11,
   "id": "0ab49bd2",
   "metadata": {},
   "outputs": [],
   "source": [
    "from torchmetrics import ConfusionMatrix\n",
    "\n",
    "test_loader = DataLoader(\n",
    "    test_set,\n",
    "    batch_size=1024,\n",
    "    shuffle=False,\n",
    "    num_workers=4,\n",
    "    pin_memory=True,\n",
    "    collate_fn=collate_fn,\n",
    ")\n",
    "\n",
    "\n",
    "confmat = ConfusionMatrix(task=\"multiclass\", normalize='true', num_classes=N_CLASSES, ).to(DEVICE)\n",
    "confmat.reset()\n",
    "\n",
    "\n",
    "rnn.to(DEVICE)\n",
    "rnn.eval()\n",
    "for batch in test_loader:\n",
    "    mfcc, label = batch\n",
    "    mfcc = mfcc.to(DEVICE)\n",
    "    label = label.to(DEVICE)\n",
    "\n",
    "    with torch.no_grad():\n",
    "        pred = rnn(mfcc)\n",
    "\n",
    "    confmat.update(pred, label)\n",
    "\n",
    "\n",
    "matrix = confmat.compute().cpu().numpy()\n",
    "\n"
   ]
  },
  {
   "cell_type": "code",
   "execution_count": 12,
   "id": "48fb9be0",
   "metadata": {},
   "outputs": [
    {
     "name": "stdout",
     "output_type": "stream",
     "text": [
      "[1.         1.         0.9285714  0.9047619  0.97619045 0.97619045\n",
      " 0.9285714  1.         0.9285714  1.        ]\n"
     ]
    },
    {
     "data": {
      "image/png": "[encoded data removed]",
      "text/plain": [
       "<Figure size 500x500 with 2 Axes>"
      ]
     },
     "metadata": {},
     "output_type": "display_data"
    }
   ],
   "source": [
    "\n",
    "# get main diagonal\n",
    "diag = matrix.diagonal()\n",
    "print(diag)\n",
    "# print(matrix)\n",
    "fig, ax = plt.subplots(figsize=(5, 5))\n",
    "\n",
    "im = ax.imshow(matrix, interpolation='nearest', cmap=plt.cm.Blues, vmin=0, vmax=1)\n",
    "ax.set_title(f\"Confusion Matrix\\n(~{100*diag.mean():.1f}% test accuracy)\")\n",
    "ax.set_xlabel(\"Predicted\")\n",
    "ax.set_ylabel(\"True\")\n",
    "ax.set_xticks(range(N_CLASSES))\n",
    "ax.set_yticks(range(N_CLASSES))\n",
    "ax.set_xticklabels(range(N_CLASSES))\n",
    "ax.set_yticklabels(range(N_CLASSES))\n",
    "plt.colorbar(im, ax=ax)\n",
    "plt.show()"
   ]
  },
  {
   "cell_type": "markdown",
   "id": "3bed3444",
   "metadata": {},
   "source": [
    "## Size/Accuracy stats\n",
    "Model size: 74.5K params (@ 32-bit float) = 297.6KB \n",
    "\n",
    "\n",
    "Accuracy is about 95% in the test set."
   ]
  },
  {
   "cell_type": "code",
   "execution_count": 13,
   "id": "728026a4",
   "metadata": {},
   "outputs": [],
   "source": [
    "from neural_compressor.config import PostTrainingQuantConfig, TuningCriterion, AccuracyCriterion\n",
    "\n",
    "accuracy_criterion = AccuracyCriterion(tolerable_loss=0.01)\n",
    "tuning_criterion = TuningCriterion(max_trials=600)\n",
    "conf = PostTrainingQuantConfig(\n",
    "    approach=\"static\", backend=\"default\", tuning_criterion=tuning_criterion, accuracy_criterion=accuracy_criterion\n",
    ")"
   ]
  },
  {
   "cell_type": "code",
   "execution_count": 14,
   "id": "95b2c898",
   "metadata": {},
   "outputs": [
    {
     "name": "stderr",
     "output_type": "stream",
     "text": [
      "/home/chanokin/innatera/audio_digit_classifier/.venv/lib/python3.12/site-packages/torch/ao/nn/quantized/dynamic/modules/rnn.py:136: UserWarning: dropout option adds dropout after all but last recurrent layer, so non-zero dropout expects num_layers greater than 1, but got dropout=0.3 and num_layers=1\n",
      "  warnings.warn(\n"
     ]
    }
   ],
   "source": [
    "model_int8 = torch.quantization.quantize_dynamic(\n",
    "    rnn,  # the original model\n",
    "    {torch.nn.LSTM, torch.nn.Linear},  # a set of layers to dynamically quantize\n",
    "    dtype=torch.qint8, # the target dtype for quantized weights\n",
    ")\n"
   ]
  },
  {
   "cell_type": "code",
   "execution_count": 16,
   "id": "87b0f07d",
   "metadata": {},
   "outputs": [],
   "source": [
    "\n",
    "confmat = ConfusionMatrix(task=\"multiclass\", normalize='true', num_classes=N_CLASSES, ).to(DEVICE)\n",
    "confmat.reset()\n",
    "\n",
    "\n",
    "model_int8.to(DEVICE)\n",
    "model_int8.eval()\n",
    "for batch in test_loader:\n",
    "    mfcc, label = batch\n",
    "    mfcc = mfcc.to(DEVICE)\n",
    "    label = label.to(DEVICE)\n",
    "\n",
    "    with torch.no_grad():\n",
    "        pred = model_int8(mfcc)\n",
    "\n",
    "    confmat.update(pred, label)\n",
    "\n",
    "\n",
    "matrix = confmat.compute().cpu().numpy()\n",
    "\n"
   ]
  },
  {
   "cell_type": "code",
   "execution_count": 17,
   "id": "ceb48da7",
   "metadata": {},
   "outputs": [
    {
     "name": "stdout",
     "output_type": "stream",
     "text": [
      "[0.97619045 1.         0.9047619  0.88095236 0.97619045 0.97619045\n",
      " 0.9285714  1.         0.95238096 1.        ]\n"
     ]
    },
    {
     "data": {
      "image/png": "[encoded data removed]",
      "text/plain": [
       "<Figure size 500x500 with 2 Axes>"
      ]
     },
     "metadata": {},
     "output_type": "display_data"
    }
   ],
   "source": [
    "\n",
    "# get main diagonal\n",
    "diag = matrix.diagonal()\n",
    "print(diag)\n",
    "# print(matrix)\n",
    "fig, ax = plt.subplots(figsize=(5, 5))\n",
    "\n",
    "im = ax.imshow(matrix, interpolation='nearest', cmap=plt.cm.Blues, vmin=0, vmax=1)\n",
    "ax.set_title(f\"Confusion Matrix\\n(~{100*diag.mean():.1f}% test accuracy)\")\n",
    "ax.set_xlabel(\"Predicted\")\n",
    "ax.set_ylabel(\"True\")\n",
    "ax.set_xticks(range(N_CLASSES))\n",
    "ax.set_yticks(range(N_CLASSES))\n",
    "ax.set_xticklabels(range(N_CLASSES))\n",
    "ax.set_yticklabels(range(N_CLASSES))\n",
    "plt.colorbar(im, ax=ax)\n",
    "plt.show()"
   ]
  },
  {
   "cell_type": "code",
   "execution_count": 22,
   "id": "b2147ad0",
   "metadata": {},
   "outputs": [
    {
     "data": {
      "text/plain": [
       "RNN(\n",
       "  (lstm): DynamicQuantizedLSTM(13, 80, batch_first=True, dropout=0.3)\n",
       "  (linear_000): LSD(\n",
       "    (linear): DynamicQuantizedLinear(in_features=80, out_features=10, dtype=torch.qint8, qscheme=torch.per_tensor_affine)\n",
       "    (act): SiLU()\n",
       "    (dropout): Dropout(p=0.3, inplace=False)\n",
       "  )\n",
       ")"
      ]
     },
     "execution_count": 22,
     "metadata": {},
     "output_type": "execute_result"
    }
   ],
   "source": [
    "model_int8"
   ]
  },
  {
   "cell_type": "code",
   "execution_count": 29,
   "id": "089bc67c",
   "metadata": {},
   "outputs": [],
   "source": [
    "# save the model\n",
    "torch.save(model_int8.state_dict(), CHECKPOINT_PATH / EXPERIMENT_NAME / \"rnn_int8.pt\")"
   ]
  },
  {
   "cell_type": "code",
   "execution_count": null,
   "id": "c36b967c",
   "metadata": {},
   "outputs": [
    {
     "name": "stdout",
     "output_type": "stream",
     "text": [
      "F32 Model size: 121.91 KB\n",
      "F32 Model size: 30.48 KB\n"
     ]
    }
   ],
   "source": [
    "n_f32_params = sum(p.numel() for p in rnn.parameters())\n",
    "n_KB_f32 = n_f32_params * 4 / 1024\n",
    "n_KB_i8 = n_f32_params / 1024\n",
    "\n",
    "print(f\"F32 Model size: {n_KB_f32:.2f} KB\")\n",
    "print(f\"F32 Model size: {n_KB_i8:.2f} KB\")"
   ]
  },
  {
   "cell_type": "code",
   "execution_count": null,
   "id": "c516d9ca",
   "metadata": {},
   "outputs": [],
   "source": []
  },
  {
   "cell_type": "code",
   "execution_count": null,
   "id": "b9e4d69c",
   "metadata": {},
   "outputs": [],
   "source": []
  },
  {
   "cell_type": "code",
   "execution_count": null,
   "id": "c8da5dfa",
   "metadata": {},
   "outputs": [],
   "source": []
  }
 ],
 "metadata": {
  "kernelspec": {
   "display_name": ".venv",
   "language": "python",
   "name": "python3"
  },
  "language_info": {
   "codemirror_mode": {
    "name": "ipython",
    "version": 3
   },
   "file_extension": ".py",
   "mimetype": "text/x-python",
   "name": "python",
   "nbconvert_exporter": "python",
   "pygments_lexer": "ipython3",
   "version": "3.12.3"
  }
 },
 "nbformat": 4,
 "nbformat_minor": 5
}
